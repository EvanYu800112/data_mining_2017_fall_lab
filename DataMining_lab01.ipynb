{
 "cells": [
  {
   "cell_type": "code",
   "execution_count": 1,
   "metadata": {
    "collapsed": true
   },
   "outputs": [],
   "source": [
    "# necessary for when working with external scripts\n",
    "%load_ext autoreload\n",
    "%autoreload 2"
   ]
  },
  {
   "cell_type": "code",
   "execution_count": 2,
   "metadata": {
    "collapsed": true
   },
   "outputs": [],
   "source": [
    "import pandas as pd\n",
    "import numpy as np\n",
    "import nltk\n",
    "from sklearn.datasets import fetch_20newsgroups\n",
    "from sklearn.feature_extraction.text import CountVectorizer\n",
    "import plotly.plotly as py\n",
    "import plotly.graph_objs as go\n",
    "import math\n",
    "%matplotlib inline\n",
    "\n",
    "# my functions\n",
    "import helpers.data_mining_helpers as dmh\n",
    "import helpers.text_analysis as ta"
   ]
  },
  {
   "cell_type": "markdown",
   "metadata": {},
   "source": [
    "## 2. Data Preparation"
   ]
  },
  {
   "cell_type": "code",
   "execution_count": 3,
   "metadata": {
    "collapsed": true
   },
   "outputs": [],
   "source": [
    "# categories\n",
    "categories = ['alt.atheism', 'soc.religion.christian', 'comp.graphics', 'sci.med']\n",
    "\n",
    "# obtain the documents containing the categories provided\n",
    "twenty_train = fetch_20newsgroups(subset='train', categories=categories,shuffle=True, random_state=42)\n"
   ]
  },
  {
   "cell_type": "markdown",
   "metadata": {},
   "source": [
    "## 3. So What's next?\n",
    "### 3.1 Converting Dictionary into Pandas dataframe"
   ]
  },
  {
   "cell_type": "code",
   "execution_count": 197,
   "metadata": {},
   "outputs": [
    {
     "data": {
      "text/plain": [
       "list"
      ]
     },
     "execution_count": 197,
     "metadata": {},
     "output_type": "execute_result"
    }
   ],
   "source": [
    "twenty_train.data[0:2]\n",
    "type(twenty_train.data)"
   ]
  },
  {
   "cell_type": "code",
   "execution_count": 5,
   "metadata": {},
   "outputs": [
    {
     "data": {
      "text/plain": [
       "['alt.atheism', 'comp.graphics', 'sci.med', 'soc.religion.christian']"
      ]
     },
     "execution_count": 5,
     "metadata": {},
     "output_type": "execute_result"
    }
   ],
   "source": [
    "twenty_train.target_names"
   ]
  },
  {
   "cell_type": "code",
   "execution_count": 6,
   "metadata": {},
   "outputs": [
    {
     "data": {
      "text/plain": [
       "2257"
      ]
     },
     "execution_count": 6,
     "metadata": {},
     "output_type": "execute_result"
    }
   ],
   "source": [
    "len(twenty_train.filenames)"
   ]
  },
  {
   "cell_type": "code",
   "execution_count": 7,
   "metadata": {},
   "outputs": [
    {
     "data": {
      "text/plain": [
       "2257"
      ]
     },
     "execution_count": 7,
     "metadata": {},
     "output_type": "execute_result"
    }
   ],
   "source": [
    "len(twenty_train.data)"
   ]
  },
  {
   "cell_type": "code",
   "execution_count": 8,
   "metadata": {},
   "outputs": [
    {
     "name": "stdout",
     "output_type": "stream",
     "text": [
      "From: sd345@city.ac.uk (Michael Collier)\n",
      "Subject: Converting images to HP LaserJet III?\n",
      "Nntp-Posting-Host: hampton\n",
      "Organization: The City University\n",
      "Lines: 14\n",
      "\n",
      "Does anyone know of a good way (standard PC application/PD utility) to\n",
      "convert tif/img/tga files into LaserJet III format.  We would also like to\n",
      "do the same, converting to HPGL (HP plotter) files.\n",
      "\n",
      "Please email any response.\n",
      "\n",
      "Is this the correct group?\n",
      "\n",
      "Thanks in advance.  Michael.\n",
      "-- \n",
      "Michael Collier (Programmer)                 The Computer Unit,\n",
      "Email: M.P.Collier@uk.ac.city                The City University,\n",
      "Tel: 071 477-8000 x3769                      London,\n",
      "Fax: 071 477-8565                            EC1V 0HB.\n",
      "\n"
     ]
    }
   ],
   "source": [
    "# An example of what the subset contains\n",
    "print(\"\\n\".join(twenty_train.data[0].split(\"\\n\")))"
   ]
  },
  {
   "cell_type": "code",
   "execution_count": 9,
   "metadata": {},
   "outputs": [
    {
     "name": "stdout",
     "output_type": "stream",
     "text": [
      "comp.graphics\n"
     ]
    }
   ],
   "source": [
    "print(twenty_train.target_names[twenty_train.target[0]])"
   ]
  },
  {
   "cell_type": "code",
   "execution_count": 10,
   "metadata": {},
   "outputs": [
    {
     "data": {
      "text/plain": [
       "array([1, 1, 3, 3, 3, 3, 3, 2, 2, 2], dtype=int64)"
      ]
     },
     "execution_count": 10,
     "metadata": {},
     "output_type": "execute_result"
    }
   ],
   "source": [
    "twenty_train.target[:10]"
   ]
  },
  {
   "cell_type": "code",
   "execution_count": 11,
   "metadata": {},
   "outputs": [
    {
     "name": "stdout",
     "output_type": "stream",
     "text": [
      "comp.graphics\n",
      "comp.graphics\n",
      "soc.religion.christian\n",
      "soc.religion.christian\n",
      "soc.religion.christian\n",
      "soc.religion.christian\n",
      "soc.religion.christian\n",
      "sci.med\n",
      "sci.med\n",
      "sci.med\n",
      "soc.religion.christian\n",
      "comp.graphics\n",
      "alt.atheism\n",
      "alt.atheism\n",
      "comp.graphics\n",
      "comp.graphics\n",
      "sci.med\n",
      "alt.atheism\n",
      "soc.religion.christian\n",
      "alt.atheism\n",
      "soc.religion.christian\n",
      "alt.atheism\n",
      "soc.religion.christian\n",
      "comp.graphics\n",
      "comp.graphics\n",
      "comp.graphics\n",
      "soc.religion.christian\n",
      "soc.religion.christian\n",
      "sci.med\n",
      "sci.med\n",
      "sci.med\n",
      "soc.religion.christian\n",
      "sci.med\n",
      "soc.religion.christian\n",
      "sci.med\n",
      "soc.religion.christian\n",
      "alt.atheism\n",
      "alt.atheism\n",
      "alt.atheism\n",
      "comp.graphics\n",
      "soc.religion.christian\n",
      "alt.atheism\n",
      "comp.graphics\n",
      "comp.graphics\n",
      "sci.med\n",
      "alt.atheism\n",
      "soc.religion.christian\n",
      "soc.religion.christian\n",
      "comp.graphics\n",
      "sci.med\n"
     ]
    }
   ],
   "source": [
    "for t in twenty_train.target[:50]:\n",
    "    print(twenty_train.target_names[t])"
   ]
  },
  {
   "cell_type": "code",
   "execution_count": 12,
   "metadata": {},
   "outputs": [
    {
     "data": {
      "text/plain": [
       "array([1, 1, 3, ..., 2, 2, 2], dtype=int64)"
      ]
     },
     "execution_count": 12,
     "metadata": {},
     "output_type": "execute_result"
    }
   ],
   "source": [
    "twenty_train.target"
   ]
  },
  {
   "cell_type": "code",
   "execution_count": 13,
   "metadata": {},
   "outputs": [
    {
     "data": {
      "text/plain": [
       "2257"
      ]
     },
     "execution_count": 13,
     "metadata": {},
     "output_type": "execute_result"
    }
   ],
   "source": [
    "#print(type(dmh.format_rows(twenty_train)))\n",
    "\n",
    "#pd.DataFrame.from_records: input a ndarray, list, tuple, dict or DataFrame to get DataFrame\n",
    "X = pd.DataFrame.from_records(dmh.format_rows(twenty_train), columns= ['text'])\n",
    "len(X)"
   ]
  },
  {
   "cell_type": "code",
   "execution_count": 14,
   "metadata": {},
   "outputs": [
    {
     "data": {
      "text/html": [
       "<div>\n",
       "<style>\n",
       "    .dataframe thead tr:only-child th {\n",
       "        text-align: right;\n",
       "    }\n",
       "\n",
       "    .dataframe thead th {\n",
       "        text-align: left;\n",
       "    }\n",
       "\n",
       "    .dataframe tbody tr th {\n",
       "        vertical-align: top;\n",
       "    }\n",
       "</style>\n",
       "<table border=\"1\" class=\"dataframe\">\n",
       "  <thead>\n",
       "    <tr style=\"text-align: right;\">\n",
       "      <th></th>\n",
       "      <th>text</th>\n",
       "    </tr>\n",
       "  </thead>\n",
       "  <tbody>\n",
       "    <tr>\n",
       "      <th>0</th>\n",
       "      <td>From: sd345@city.ac.uk (Michael Collier) Subje...</td>\n",
       "    </tr>\n",
       "    <tr>\n",
       "      <th>1</th>\n",
       "      <td>From: ani@ms.uky.edu (Aniruddha B. Deglurkar) ...</td>\n",
       "    </tr>\n",
       "  </tbody>\n",
       "</table>\n",
       "</div>"
      ],
      "text/plain": [
       "                                                text\n",
       "0  From: sd345@city.ac.uk (Michael Collier) Subje...\n",
       "1  From: ani@ms.uky.edu (Aniruddha B. Deglurkar) ..."
      ]
     },
     "execution_count": 14,
     "metadata": {},
     "output_type": "execute_result"
    }
   ],
   "source": [
    "X[0:2]"
   ]
  },
  {
   "cell_type": "code",
   "execution_count": 15,
   "metadata": {},
   "outputs": [
    {
     "data": {
      "text/plain": [
       "RangeIndex(start=0, stop=2257, step=1)"
      ]
     },
     "execution_count": 15,
     "metadata": {},
     "output_type": "execute_result"
    }
   ],
   "source": [
    "X.index  #資料只到stop的前一個，stop值並沒有內容"
   ]
  },
  {
   "cell_type": "code",
   "execution_count": 16,
   "metadata": {
    "collapsed": true
   },
   "outputs": [],
   "source": [
    "# add category to the dataframe\n",
    "X['category'] = twenty_train.target"
   ]
  },
  {
   "cell_type": "code",
   "execution_count": 17,
   "metadata": {
    "collapsed": true
   },
   "outputs": [],
   "source": [
    "# add category label also\n",
    "X['category_name'] = X.category.apply(lambda t: dmh.format_labels(t, twenty_train))"
   ]
  },
  {
   "cell_type": "code",
   "execution_count": 18,
   "metadata": {},
   "outputs": [
    {
     "data": {
      "text/html": [
       "<div>\n",
       "<style>\n",
       "    .dataframe thead tr:only-child th {\n",
       "        text-align: right;\n",
       "    }\n",
       "\n",
       "    .dataframe thead th {\n",
       "        text-align: left;\n",
       "    }\n",
       "\n",
       "    .dataframe tbody tr th {\n",
       "        vertical-align: top;\n",
       "    }\n",
       "</style>\n",
       "<table border=\"1\" class=\"dataframe\">\n",
       "  <thead>\n",
       "    <tr style=\"text-align: right;\">\n",
       "      <th></th>\n",
       "      <th>text</th>\n",
       "      <th>category</th>\n",
       "      <th>category_name</th>\n",
       "    </tr>\n",
       "  </thead>\n",
       "  <tbody>\n",
       "    <tr>\n",
       "      <th>0</th>\n",
       "      <td>From: sd345@city.ac.uk (Michael Collier) Subje...</td>\n",
       "      <td>1</td>\n",
       "      <td>comp.graphics</td>\n",
       "    </tr>\n",
       "    <tr>\n",
       "      <th>1</th>\n",
       "      <td>From: ani@ms.uky.edu (Aniruddha B. Deglurkar) ...</td>\n",
       "      <td>1</td>\n",
       "      <td>comp.graphics</td>\n",
       "    </tr>\n",
       "    <tr>\n",
       "      <th>2</th>\n",
       "      <td>From: djohnson@cs.ucsd.edu (Darin Johnson) Sub...</td>\n",
       "      <td>3</td>\n",
       "      <td>soc.religion.christian</td>\n",
       "    </tr>\n",
       "    <tr>\n",
       "      <th>3</th>\n",
       "      <td>From: s0612596@let.rug.nl (M.M. Zwart) Subject...</td>\n",
       "      <td>3</td>\n",
       "      <td>soc.religion.christian</td>\n",
       "    </tr>\n",
       "    <tr>\n",
       "      <th>4</th>\n",
       "      <td>From: stanly@grok11.columbiasc.ncr.com (stanly...</td>\n",
       "      <td>3</td>\n",
       "      <td>soc.religion.christian</td>\n",
       "    </tr>\n",
       "    <tr>\n",
       "      <th>5</th>\n",
       "      <td>From: vbv@lor.eeap.cwru.edu (Virgilio (Dean) B...</td>\n",
       "      <td>3</td>\n",
       "      <td>soc.religion.christian</td>\n",
       "    </tr>\n",
       "    <tr>\n",
       "      <th>6</th>\n",
       "      <td>From: jodfishe@silver.ucs.indiana.edu (joseph ...</td>\n",
       "      <td>3</td>\n",
       "      <td>soc.religion.christian</td>\n",
       "    </tr>\n",
       "    <tr>\n",
       "      <th>7</th>\n",
       "      <td>From: aldridge@netcom.com (Jacquelin Aldridge)...</td>\n",
       "      <td>2</td>\n",
       "      <td>sci.med</td>\n",
       "    </tr>\n",
       "    <tr>\n",
       "      <th>8</th>\n",
       "      <td>From: geb@cs.pitt.edu (Gordon Banks) Subject: ...</td>\n",
       "      <td>2</td>\n",
       "      <td>sci.med</td>\n",
       "    </tr>\n",
       "    <tr>\n",
       "      <th>9</th>\n",
       "      <td>From: libman@hsc.usc.edu (Marlena Libman) Subj...</td>\n",
       "      <td>2</td>\n",
       "      <td>sci.med</td>\n",
       "    </tr>\n",
       "  </tbody>\n",
       "</table>\n",
       "</div>"
      ],
      "text/plain": [
       "                                                text  category  \\\n",
       "0  From: sd345@city.ac.uk (Michael Collier) Subje...         1   \n",
       "1  From: ani@ms.uky.edu (Aniruddha B. Deglurkar) ...         1   \n",
       "2  From: djohnson@cs.ucsd.edu (Darin Johnson) Sub...         3   \n",
       "3  From: s0612596@let.rug.nl (M.M. Zwart) Subject...         3   \n",
       "4  From: stanly@grok11.columbiasc.ncr.com (stanly...         3   \n",
       "5  From: vbv@lor.eeap.cwru.edu (Virgilio (Dean) B...         3   \n",
       "6  From: jodfishe@silver.ucs.indiana.edu (joseph ...         3   \n",
       "7  From: aldridge@netcom.com (Jacquelin Aldridge)...         2   \n",
       "8  From: geb@cs.pitt.edu (Gordon Banks) Subject: ...         2   \n",
       "9  From: libman@hsc.usc.edu (Marlena Libman) Subj...         2   \n",
       "\n",
       "            category_name  \n",
       "0           comp.graphics  \n",
       "1           comp.graphics  \n",
       "2  soc.religion.christian  \n",
       "3  soc.religion.christian  \n",
       "4  soc.religion.christian  \n",
       "5  soc.religion.christian  \n",
       "6  soc.religion.christian  \n",
       "7                 sci.med  \n",
       "8                 sci.med  \n",
       "9                 sci.med  "
      ]
     },
     "execution_count": 18,
     "metadata": {},
     "output_type": "execute_result"
    }
   ],
   "source": [
    "X[0:10]"
   ]
  },
  {
   "cell_type": "markdown",
   "metadata": {},
   "source": [
    "### 3.2 Familiarizing yourself with the Data"
   ]
  },
  {
   "cell_type": "code",
   "execution_count": 198,
   "metadata": {},
   "outputs": [
    {
     "data": {
      "text/html": [
       "<div>\n",
       "<style>\n",
       "    .dataframe thead tr:only-child th {\n",
       "        text-align: right;\n",
       "    }\n",
       "\n",
       "    .dataframe thead th {\n",
       "        text-align: left;\n",
       "    }\n",
       "\n",
       "    .dataframe tbody tr th {\n",
       "        vertical-align: top;\n",
       "    }\n",
       "</style>\n",
       "<table border=\"1\" class=\"dataframe\">\n",
       "  <thead>\n",
       "    <tr style=\"text-align: right;\">\n",
       "      <th></th>\n",
       "      <th>text</th>\n",
       "      <th>category_name</th>\n",
       "    </tr>\n",
       "  </thead>\n",
       "  <tbody>\n",
       "    <tr>\n",
       "      <th>0</th>\n",
       "      <td>From: sd345@city.ac.uk (Michael Collier) Subje...</td>\n",
       "      <td>comp.graphics</td>\n",
       "    </tr>\n",
       "    <tr>\n",
       "      <th>1</th>\n",
       "      <td>From: ani@ms.uky.edu (Aniruddha B. Deglurkar) ...</td>\n",
       "      <td>comp.graphics</td>\n",
       "    </tr>\n",
       "    <tr>\n",
       "      <th>2</th>\n",
       "      <td>From: djohnson@cs.ucsd.edu (Darin Johnson) Sub...</td>\n",
       "      <td>soc.religion.christian</td>\n",
       "    </tr>\n",
       "    <tr>\n",
       "      <th>3</th>\n",
       "      <td>From: s0612596@let.rug.nl (M.M. Zwart) Subject...</td>\n",
       "      <td>soc.religion.christian</td>\n",
       "    </tr>\n",
       "    <tr>\n",
       "      <th>4</th>\n",
       "      <td>From: stanly@grok11.columbiasc.ncr.com (stanly...</td>\n",
       "      <td>soc.religion.christian</td>\n",
       "    </tr>\n",
       "    <tr>\n",
       "      <th>5</th>\n",
       "      <td>From: vbv@lor.eeap.cwru.edu (Virgilio (Dean) B...</td>\n",
       "      <td>soc.religion.christian</td>\n",
       "    </tr>\n",
       "    <tr>\n",
       "      <th>6</th>\n",
       "      <td>From: jodfishe@silver.ucs.indiana.edu (joseph ...</td>\n",
       "      <td>soc.religion.christian</td>\n",
       "    </tr>\n",
       "    <tr>\n",
       "      <th>7</th>\n",
       "      <td>From: aldridge@netcom.com (Jacquelin Aldridge)...</td>\n",
       "      <td>sci.med</td>\n",
       "    </tr>\n",
       "    <tr>\n",
       "      <th>8</th>\n",
       "      <td>From: geb@cs.pitt.edu (Gordon Banks) Subject: ...</td>\n",
       "      <td>sci.med</td>\n",
       "    </tr>\n",
       "    <tr>\n",
       "      <th>9</th>\n",
       "      <td>From: libman@hsc.usc.edu (Marlena Libman) Subj...</td>\n",
       "      <td>sci.med</td>\n",
       "    </tr>\n",
       "  </tbody>\n",
       "</table>\n",
       "</div>"
      ],
      "text/plain": [
       "                                                text           category_name\n",
       "0  From: sd345@city.ac.uk (Michael Collier) Subje...           comp.graphics\n",
       "1  From: ani@ms.uky.edu (Aniruddha B. Deglurkar) ...           comp.graphics\n",
       "2  From: djohnson@cs.ucsd.edu (Darin Johnson) Sub...  soc.religion.christian\n",
       "3  From: s0612596@let.rug.nl (M.M. Zwart) Subject...  soc.religion.christian\n",
       "4  From: stanly@grok11.columbiasc.ncr.com (stanly...  soc.religion.christian\n",
       "5  From: vbv@lor.eeap.cwru.edu (Virgilio (Dean) B...  soc.religion.christian\n",
       "6  From: jodfishe@silver.ucs.indiana.edu (joseph ...  soc.religion.christian\n",
       "7  From: aldridge@netcom.com (Jacquelin Aldridge)...                 sci.med\n",
       "8  From: geb@cs.pitt.edu (Gordon Banks) Subject: ...                 sci.med\n",
       "9  From: libman@hsc.usc.edu (Marlena Libman) Subj...                 sci.med"
      ]
     },
     "execution_count": 198,
     "metadata": {},
     "output_type": "execute_result"
    }
   ],
   "source": [
    "X[0:10][[\"text\", \"category_name\"]]"
   ]
  },
  {
   "cell_type": "code",
   "execution_count": 20,
   "metadata": {},
   "outputs": [
    {
     "data": {
      "text/html": [
       "<div>\n",
       "<style>\n",
       "    .dataframe thead tr:only-child th {\n",
       "        text-align: right;\n",
       "    }\n",
       "\n",
       "    .dataframe thead th {\n",
       "        text-align: left;\n",
       "    }\n",
       "\n",
       "    .dataframe tbody tr th {\n",
       "        vertical-align: top;\n",
       "    }\n",
       "</style>\n",
       "<table border=\"1\" class=\"dataframe\">\n",
       "  <thead>\n",
       "    <tr style=\"text-align: right;\">\n",
       "      <th></th>\n",
       "      <th>text</th>\n",
       "      <th>category</th>\n",
       "      <th>category_name</th>\n",
       "    </tr>\n",
       "  </thead>\n",
       "  <tbody>\n",
       "    <tr>\n",
       "      <th>2246</th>\n",
       "      <td>From: lmvec@westminster.ac.uk (William Hargrea...</td>\n",
       "      <td>3</td>\n",
       "      <td>soc.religion.christian</td>\n",
       "    </tr>\n",
       "    <tr>\n",
       "      <th>2247</th>\n",
       "      <td>From: daniels@math.ufl.edu (TV's Big Dealer) S...</td>\n",
       "      <td>3</td>\n",
       "      <td>soc.religion.christian</td>\n",
       "    </tr>\n",
       "    <tr>\n",
       "      <th>2248</th>\n",
       "      <td>From: \"danny hawrysio\" &lt;danny.hawrysio@canrem....</td>\n",
       "      <td>1</td>\n",
       "      <td>comp.graphics</td>\n",
       "    </tr>\n",
       "    <tr>\n",
       "      <th>2249</th>\n",
       "      <td>From: shellgate!llo@uu4.psi.com (Larry L. Over...</td>\n",
       "      <td>3</td>\n",
       "      <td>soc.religion.christian</td>\n",
       "    </tr>\n",
       "    <tr>\n",
       "      <th>2250</th>\n",
       "      <td>From: ingles@engin.umich.edu (Ray Ingles) Subj...</td>\n",
       "      <td>0</td>\n",
       "      <td>alt.atheism</td>\n",
       "    </tr>\n",
       "    <tr>\n",
       "      <th>2251</th>\n",
       "      <td>From: Mark-Tarbell@suite.com Subject: Amniocen...</td>\n",
       "      <td>2</td>\n",
       "      <td>sci.med</td>\n",
       "    </tr>\n",
       "    <tr>\n",
       "      <th>2252</th>\n",
       "      <td>From: roos@Operoni.Helsinki.FI (Christophe Roo...</td>\n",
       "      <td>2</td>\n",
       "      <td>sci.med</td>\n",
       "    </tr>\n",
       "    <tr>\n",
       "      <th>2253</th>\n",
       "      <td>From: mhollowa@ic.sunysb.edu (Michael Holloway...</td>\n",
       "      <td>2</td>\n",
       "      <td>sci.med</td>\n",
       "    </tr>\n",
       "    <tr>\n",
       "      <th>2254</th>\n",
       "      <td>From: sasghm@theseus.unx.sas.com (Gary Merrill...</td>\n",
       "      <td>2</td>\n",
       "      <td>sci.med</td>\n",
       "    </tr>\n",
       "    <tr>\n",
       "      <th>2255</th>\n",
       "      <td>From: Dan Wallach &lt;dwallach@cs.berkeley.edu&gt; S...</td>\n",
       "      <td>2</td>\n",
       "      <td>sci.med</td>\n",
       "    </tr>\n",
       "  </tbody>\n",
       "</table>\n",
       "</div>"
      ],
      "text/plain": [
       "                                                   text  category  \\\n",
       "2246  From: lmvec@westminster.ac.uk (William Hargrea...         3   \n",
       "2247  From: daniels@math.ufl.edu (TV's Big Dealer) S...         3   \n",
       "2248  From: \"danny hawrysio\" <danny.hawrysio@canrem....         1   \n",
       "2249  From: shellgate!llo@uu4.psi.com (Larry L. Over...         3   \n",
       "2250  From: ingles@engin.umich.edu (Ray Ingles) Subj...         0   \n",
       "2251  From: Mark-Tarbell@suite.com Subject: Amniocen...         2   \n",
       "2252  From: roos@Operoni.Helsinki.FI (Christophe Roo...         2   \n",
       "2253  From: mhollowa@ic.sunysb.edu (Michael Holloway...         2   \n",
       "2254  From: sasghm@theseus.unx.sas.com (Gary Merrill...         2   \n",
       "2255  From: Dan Wallach <dwallach@cs.berkeley.edu> S...         2   \n",
       "\n",
       "               category_name  \n",
       "2246  soc.religion.christian  \n",
       "2247  soc.religion.christian  \n",
       "2248           comp.graphics  \n",
       "2249  soc.religion.christian  \n",
       "2250             alt.atheism  \n",
       "2251                 sci.med  \n",
       "2252                 sci.med  \n",
       "2253                 sci.med  \n",
       "2254                 sci.med  \n",
       "2255                 sci.med  "
      ]
     },
     "execution_count": 20,
     "metadata": {},
     "output_type": "execute_result"
    }
   ],
   "source": [
    "X[-11:-1]"
   ]
  },
  {
   "cell_type": "code",
   "execution_count": 21,
   "metadata": {},
   "outputs": [
    {
     "data": {
      "text/html": [
       "<div>\n",
       "<style>\n",
       "    .dataframe thead tr:only-child th {\n",
       "        text-align: right;\n",
       "    }\n",
       "\n",
       "    .dataframe thead th {\n",
       "        text-align: left;\n",
       "    }\n",
       "\n",
       "    .dataframe tbody tr th {\n",
       "        vertical-align: top;\n",
       "    }\n",
       "</style>\n",
       "<table border=\"1\" class=\"dataframe\">\n",
       "  <thead>\n",
       "    <tr style=\"text-align: right;\">\n",
       "      <th></th>\n",
       "      <th>text</th>\n",
       "      <th>category</th>\n",
       "      <th>category_name</th>\n",
       "    </tr>\n",
       "  </thead>\n",
       "  <tbody>\n",
       "    <tr>\n",
       "      <th>0</th>\n",
       "      <td>From: sd345@city.ac.uk (Michael Collier) Subje...</td>\n",
       "      <td>1</td>\n",
       "      <td>comp.graphics</td>\n",
       "    </tr>\n",
       "    <tr>\n",
       "      <th>10</th>\n",
       "      <td>From: anasaz!karl@anasazi.com (Karl Dussik) Su...</td>\n",
       "      <td>3</td>\n",
       "      <td>soc.religion.christian</td>\n",
       "    </tr>\n",
       "    <tr>\n",
       "      <th>20</th>\n",
       "      <td>From: dotsonm@dmapub.dma.org (Mark Dotson) Sub...</td>\n",
       "      <td>3</td>\n",
       "      <td>soc.religion.christian</td>\n",
       "    </tr>\n",
       "    <tr>\n",
       "      <th>30</th>\n",
       "      <td>From: vgwlu@dunsell.calgary.chevron.com (greg ...</td>\n",
       "      <td>2</td>\n",
       "      <td>sci.med</td>\n",
       "    </tr>\n",
       "    <tr>\n",
       "      <th>40</th>\n",
       "      <td>From: david-s@hsr.no (David A. Sjoen) Subject:...</td>\n",
       "      <td>3</td>\n",
       "      <td>soc.religion.christian</td>\n",
       "    </tr>\n",
       "    <tr>\n",
       "      <th>50</th>\n",
       "      <td>From: ab@nova.cc.purdue.edu (Allen B) Subject:...</td>\n",
       "      <td>1</td>\n",
       "      <td>comp.graphics</td>\n",
       "    </tr>\n",
       "    <tr>\n",
       "      <th>60</th>\n",
       "      <td>From: Nanci Ann Miller &lt;nm0w+@andrew.cmu.edu&gt; ...</td>\n",
       "      <td>0</td>\n",
       "      <td>alt.atheism</td>\n",
       "    </tr>\n",
       "    <tr>\n",
       "      <th>70</th>\n",
       "      <td>From: weaver@chdasic.sps.mot.com (Dave Weaver)...</td>\n",
       "      <td>3</td>\n",
       "      <td>soc.religion.christian</td>\n",
       "    </tr>\n",
       "    <tr>\n",
       "      <th>80</th>\n",
       "      <td>From: annick@cortex.physiol.su.oz.au (Annick A...</td>\n",
       "      <td>2</td>\n",
       "      <td>sci.med</td>\n",
       "    </tr>\n",
       "    <tr>\n",
       "      <th>90</th>\n",
       "      <td>Subject: Vonnegut/atheism From: dmn@kepler.unh...</td>\n",
       "      <td>0</td>\n",
       "      <td>alt.atheism</td>\n",
       "    </tr>\n",
       "  </tbody>\n",
       "</table>\n",
       "</div>"
      ],
      "text/plain": [
       "                                                 text  category  \\\n",
       "0   From: sd345@city.ac.uk (Michael Collier) Subje...         1   \n",
       "10  From: anasaz!karl@anasazi.com (Karl Dussik) Su...         3   \n",
       "20  From: dotsonm@dmapub.dma.org (Mark Dotson) Sub...         3   \n",
       "30  From: vgwlu@dunsell.calgary.chevron.com (greg ...         2   \n",
       "40  From: david-s@hsr.no (David A. Sjoen) Subject:...         3   \n",
       "50  From: ab@nova.cc.purdue.edu (Allen B) Subject:...         1   \n",
       "60  From: Nanci Ann Miller <nm0w+@andrew.cmu.edu> ...         0   \n",
       "70  From: weaver@chdasic.sps.mot.com (Dave Weaver)...         3   \n",
       "80  From: annick@cortex.physiol.su.oz.au (Annick A...         2   \n",
       "90  Subject: Vonnegut/atheism From: dmn@kepler.unh...         0   \n",
       "\n",
       "             category_name  \n",
       "0            comp.graphics  \n",
       "10  soc.religion.christian  \n",
       "20  soc.religion.christian  \n",
       "30                 sci.med  \n",
       "40  soc.religion.christian  \n",
       "50           comp.graphics  \n",
       "60             alt.atheism  \n",
       "70  soc.religion.christian  \n",
       "80                 sci.med  \n",
       "90             alt.atheism  "
      ]
     },
     "execution_count": 21,
     "metadata": {},
     "output_type": "execute_result"
    }
   ],
   "source": [
    "X.iloc[::10,:][0:10]"
   ]
  },
  {
   "cell_type": "markdown",
   "metadata": {},
   "source": [
    "####  Exercise 0  \n",
    "```python\n",
    "#this is the same with iloc when the index is a sequence start from 0\n",
    "X.loc[::10,:][0:10] \n",
    "\n",
    "#this supports mixed integer and label based access \n",
    "#can decide to index positionally OR via labels depending on the data type of the index.\n",
    "X.ix[::10,['text','category','category_name']][0:10]\n",
    "```"
   ]
  },
  {
   "cell_type": "markdown",
   "metadata": {},
   "source": [
    "## 4.Data Mining using Pandas\n",
    "### 4.1 Missing Values"
   ]
  },
  {
   "cell_type": "code",
   "execution_count": 22,
   "metadata": {},
   "outputs": [
    {
     "data": {
      "text/html": [
       "<div>\n",
       "<style>\n",
       "    .dataframe thead tr:only-child th {\n",
       "        text-align: right;\n",
       "    }\n",
       "\n",
       "    .dataframe thead th {\n",
       "        text-align: left;\n",
       "    }\n",
       "\n",
       "    .dataframe tbody tr th {\n",
       "        vertical-align: top;\n",
       "    }\n",
       "</style>\n",
       "<table border=\"1\" class=\"dataframe\">\n",
       "  <thead>\n",
       "    <tr style=\"text-align: right;\">\n",
       "      <th></th>\n",
       "      <th>text</th>\n",
       "      <th>category</th>\n",
       "      <th>category_name</th>\n",
       "    </tr>\n",
       "  </thead>\n",
       "  <tbody>\n",
       "    <tr>\n",
       "      <th>0</th>\n",
       "      <td>False</td>\n",
       "      <td>False</td>\n",
       "      <td>False</td>\n",
       "    </tr>\n",
       "    <tr>\n",
       "      <th>1</th>\n",
       "      <td>False</td>\n",
       "      <td>False</td>\n",
       "      <td>False</td>\n",
       "    </tr>\n",
       "    <tr>\n",
       "      <th>2</th>\n",
       "      <td>False</td>\n",
       "      <td>False</td>\n",
       "      <td>False</td>\n",
       "    </tr>\n",
       "    <tr>\n",
       "      <th>3</th>\n",
       "      <td>False</td>\n",
       "      <td>False</td>\n",
       "      <td>False</td>\n",
       "    </tr>\n",
       "    <tr>\n",
       "      <th>4</th>\n",
       "      <td>False</td>\n",
       "      <td>False</td>\n",
       "      <td>False</td>\n",
       "    </tr>\n",
       "    <tr>\n",
       "      <th>5</th>\n",
       "      <td>False</td>\n",
       "      <td>False</td>\n",
       "      <td>False</td>\n",
       "    </tr>\n",
       "    <tr>\n",
       "      <th>6</th>\n",
       "      <td>False</td>\n",
       "      <td>False</td>\n",
       "      <td>False</td>\n",
       "    </tr>\n",
       "    <tr>\n",
       "      <th>7</th>\n",
       "      <td>False</td>\n",
       "      <td>False</td>\n",
       "      <td>False</td>\n",
       "    </tr>\n",
       "    <tr>\n",
       "      <th>8</th>\n",
       "      <td>False</td>\n",
       "      <td>False</td>\n",
       "      <td>False</td>\n",
       "    </tr>\n",
       "    <tr>\n",
       "      <th>9</th>\n",
       "      <td>False</td>\n",
       "      <td>False</td>\n",
       "      <td>False</td>\n",
       "    </tr>\n",
       "    <tr>\n",
       "      <th>10</th>\n",
       "      <td>False</td>\n",
       "      <td>False</td>\n",
       "      <td>False</td>\n",
       "    </tr>\n",
       "    <tr>\n",
       "      <th>11</th>\n",
       "      <td>False</td>\n",
       "      <td>False</td>\n",
       "      <td>False</td>\n",
       "    </tr>\n",
       "    <tr>\n",
       "      <th>12</th>\n",
       "      <td>False</td>\n",
       "      <td>False</td>\n",
       "      <td>False</td>\n",
       "    </tr>\n",
       "    <tr>\n",
       "      <th>13</th>\n",
       "      <td>False</td>\n",
       "      <td>False</td>\n",
       "      <td>False</td>\n",
       "    </tr>\n",
       "    <tr>\n",
       "      <th>14</th>\n",
       "      <td>False</td>\n",
       "      <td>False</td>\n",
       "      <td>False</td>\n",
       "    </tr>\n",
       "    <tr>\n",
       "      <th>15</th>\n",
       "      <td>False</td>\n",
       "      <td>False</td>\n",
       "      <td>False</td>\n",
       "    </tr>\n",
       "    <tr>\n",
       "      <th>16</th>\n",
       "      <td>False</td>\n",
       "      <td>False</td>\n",
       "      <td>False</td>\n",
       "    </tr>\n",
       "    <tr>\n",
       "      <th>17</th>\n",
       "      <td>False</td>\n",
       "      <td>False</td>\n",
       "      <td>False</td>\n",
       "    </tr>\n",
       "    <tr>\n",
       "      <th>18</th>\n",
       "      <td>False</td>\n",
       "      <td>False</td>\n",
       "      <td>False</td>\n",
       "    </tr>\n",
       "    <tr>\n",
       "      <th>19</th>\n",
       "      <td>False</td>\n",
       "      <td>False</td>\n",
       "      <td>False</td>\n",
       "    </tr>\n",
       "    <tr>\n",
       "      <th>20</th>\n",
       "      <td>False</td>\n",
       "      <td>False</td>\n",
       "      <td>False</td>\n",
       "    </tr>\n",
       "    <tr>\n",
       "      <th>21</th>\n",
       "      <td>False</td>\n",
       "      <td>False</td>\n",
       "      <td>False</td>\n",
       "    </tr>\n",
       "    <tr>\n",
       "      <th>22</th>\n",
       "      <td>False</td>\n",
       "      <td>False</td>\n",
       "      <td>False</td>\n",
       "    </tr>\n",
       "    <tr>\n",
       "      <th>23</th>\n",
       "      <td>False</td>\n",
       "      <td>False</td>\n",
       "      <td>False</td>\n",
       "    </tr>\n",
       "    <tr>\n",
       "      <th>24</th>\n",
       "      <td>False</td>\n",
       "      <td>False</td>\n",
       "      <td>False</td>\n",
       "    </tr>\n",
       "    <tr>\n",
       "      <th>25</th>\n",
       "      <td>False</td>\n",
       "      <td>False</td>\n",
       "      <td>False</td>\n",
       "    </tr>\n",
       "    <tr>\n",
       "      <th>26</th>\n",
       "      <td>False</td>\n",
       "      <td>False</td>\n",
       "      <td>False</td>\n",
       "    </tr>\n",
       "    <tr>\n",
       "      <th>27</th>\n",
       "      <td>False</td>\n",
       "      <td>False</td>\n",
       "      <td>False</td>\n",
       "    </tr>\n",
       "    <tr>\n",
       "      <th>28</th>\n",
       "      <td>False</td>\n",
       "      <td>False</td>\n",
       "      <td>False</td>\n",
       "    </tr>\n",
       "    <tr>\n",
       "      <th>29</th>\n",
       "      <td>False</td>\n",
       "      <td>False</td>\n",
       "      <td>False</td>\n",
       "    </tr>\n",
       "    <tr>\n",
       "      <th>...</th>\n",
       "      <td>...</td>\n",
       "      <td>...</td>\n",
       "      <td>...</td>\n",
       "    </tr>\n",
       "    <tr>\n",
       "      <th>2227</th>\n",
       "      <td>False</td>\n",
       "      <td>False</td>\n",
       "      <td>False</td>\n",
       "    </tr>\n",
       "    <tr>\n",
       "      <th>2228</th>\n",
       "      <td>False</td>\n",
       "      <td>False</td>\n",
       "      <td>False</td>\n",
       "    </tr>\n",
       "    <tr>\n",
       "      <th>2229</th>\n",
       "      <td>False</td>\n",
       "      <td>False</td>\n",
       "      <td>False</td>\n",
       "    </tr>\n",
       "    <tr>\n",
       "      <th>2230</th>\n",
       "      <td>False</td>\n",
       "      <td>False</td>\n",
       "      <td>False</td>\n",
       "    </tr>\n",
       "    <tr>\n",
       "      <th>2231</th>\n",
       "      <td>False</td>\n",
       "      <td>False</td>\n",
       "      <td>False</td>\n",
       "    </tr>\n",
       "    <tr>\n",
       "      <th>2232</th>\n",
       "      <td>False</td>\n",
       "      <td>False</td>\n",
       "      <td>False</td>\n",
       "    </tr>\n",
       "    <tr>\n",
       "      <th>2233</th>\n",
       "      <td>False</td>\n",
       "      <td>False</td>\n",
       "      <td>False</td>\n",
       "    </tr>\n",
       "    <tr>\n",
       "      <th>2234</th>\n",
       "      <td>False</td>\n",
       "      <td>False</td>\n",
       "      <td>False</td>\n",
       "    </tr>\n",
       "    <tr>\n",
       "      <th>2235</th>\n",
       "      <td>False</td>\n",
       "      <td>False</td>\n",
       "      <td>False</td>\n",
       "    </tr>\n",
       "    <tr>\n",
       "      <th>2236</th>\n",
       "      <td>False</td>\n",
       "      <td>False</td>\n",
       "      <td>False</td>\n",
       "    </tr>\n",
       "    <tr>\n",
       "      <th>2237</th>\n",
       "      <td>False</td>\n",
       "      <td>False</td>\n",
       "      <td>False</td>\n",
       "    </tr>\n",
       "    <tr>\n",
       "      <th>2238</th>\n",
       "      <td>False</td>\n",
       "      <td>False</td>\n",
       "      <td>False</td>\n",
       "    </tr>\n",
       "    <tr>\n",
       "      <th>2239</th>\n",
       "      <td>False</td>\n",
       "      <td>False</td>\n",
       "      <td>False</td>\n",
       "    </tr>\n",
       "    <tr>\n",
       "      <th>2240</th>\n",
       "      <td>False</td>\n",
       "      <td>False</td>\n",
       "      <td>False</td>\n",
       "    </tr>\n",
       "    <tr>\n",
       "      <th>2241</th>\n",
       "      <td>False</td>\n",
       "      <td>False</td>\n",
       "      <td>False</td>\n",
       "    </tr>\n",
       "    <tr>\n",
       "      <th>2242</th>\n",
       "      <td>False</td>\n",
       "      <td>False</td>\n",
       "      <td>False</td>\n",
       "    </tr>\n",
       "    <tr>\n",
       "      <th>2243</th>\n",
       "      <td>False</td>\n",
       "      <td>False</td>\n",
       "      <td>False</td>\n",
       "    </tr>\n",
       "    <tr>\n",
       "      <th>2244</th>\n",
       "      <td>False</td>\n",
       "      <td>False</td>\n",
       "      <td>False</td>\n",
       "    </tr>\n",
       "    <tr>\n",
       "      <th>2245</th>\n",
       "      <td>False</td>\n",
       "      <td>False</td>\n",
       "      <td>False</td>\n",
       "    </tr>\n",
       "    <tr>\n",
       "      <th>2246</th>\n",
       "      <td>False</td>\n",
       "      <td>False</td>\n",
       "      <td>False</td>\n",
       "    </tr>\n",
       "    <tr>\n",
       "      <th>2247</th>\n",
       "      <td>False</td>\n",
       "      <td>False</td>\n",
       "      <td>False</td>\n",
       "    </tr>\n",
       "    <tr>\n",
       "      <th>2248</th>\n",
       "      <td>False</td>\n",
       "      <td>False</td>\n",
       "      <td>False</td>\n",
       "    </tr>\n",
       "    <tr>\n",
       "      <th>2249</th>\n",
       "      <td>False</td>\n",
       "      <td>False</td>\n",
       "      <td>False</td>\n",
       "    </tr>\n",
       "    <tr>\n",
       "      <th>2250</th>\n",
       "      <td>False</td>\n",
       "      <td>False</td>\n",
       "      <td>False</td>\n",
       "    </tr>\n",
       "    <tr>\n",
       "      <th>2251</th>\n",
       "      <td>False</td>\n",
       "      <td>False</td>\n",
       "      <td>False</td>\n",
       "    </tr>\n",
       "    <tr>\n",
       "      <th>2252</th>\n",
       "      <td>False</td>\n",
       "      <td>False</td>\n",
       "      <td>False</td>\n",
       "    </tr>\n",
       "    <tr>\n",
       "      <th>2253</th>\n",
       "      <td>False</td>\n",
       "      <td>False</td>\n",
       "      <td>False</td>\n",
       "    </tr>\n",
       "    <tr>\n",
       "      <th>2254</th>\n",
       "      <td>False</td>\n",
       "      <td>False</td>\n",
       "      <td>False</td>\n",
       "    </tr>\n",
       "    <tr>\n",
       "      <th>2255</th>\n",
       "      <td>False</td>\n",
       "      <td>False</td>\n",
       "      <td>False</td>\n",
       "    </tr>\n",
       "    <tr>\n",
       "      <th>2256</th>\n",
       "      <td>False</td>\n",
       "      <td>False</td>\n",
       "      <td>False</td>\n",
       "    </tr>\n",
       "  </tbody>\n",
       "</table>\n",
       "<p>2257 rows × 3 columns</p>\n",
       "</div>"
      ],
      "text/plain": [
       "       text  category  category_name\n",
       "0     False     False          False\n",
       "1     False     False          False\n",
       "2     False     False          False\n",
       "3     False     False          False\n",
       "4     False     False          False\n",
       "5     False     False          False\n",
       "6     False     False          False\n",
       "7     False     False          False\n",
       "8     False     False          False\n",
       "9     False     False          False\n",
       "10    False     False          False\n",
       "11    False     False          False\n",
       "12    False     False          False\n",
       "13    False     False          False\n",
       "14    False     False          False\n",
       "15    False     False          False\n",
       "16    False     False          False\n",
       "17    False     False          False\n",
       "18    False     False          False\n",
       "19    False     False          False\n",
       "20    False     False          False\n",
       "21    False     False          False\n",
       "22    False     False          False\n",
       "23    False     False          False\n",
       "24    False     False          False\n",
       "25    False     False          False\n",
       "26    False     False          False\n",
       "27    False     False          False\n",
       "28    False     False          False\n",
       "29    False     False          False\n",
       "...     ...       ...            ...\n",
       "2227  False     False          False\n",
       "2228  False     False          False\n",
       "2229  False     False          False\n",
       "2230  False     False          False\n",
       "2231  False     False          False\n",
       "2232  False     False          False\n",
       "2233  False     False          False\n",
       "2234  False     False          False\n",
       "2235  False     False          False\n",
       "2236  False     False          False\n",
       "2237  False     False          False\n",
       "2238  False     False          False\n",
       "2239  False     False          False\n",
       "2240  False     False          False\n",
       "2241  False     False          False\n",
       "2242  False     False          False\n",
       "2243  False     False          False\n",
       "2244  False     False          False\n",
       "2245  False     False          False\n",
       "2246  False     False          False\n",
       "2247  False     False          False\n",
       "2248  False     False          False\n",
       "2249  False     False          False\n",
       "2250  False     False          False\n",
       "2251  False     False          False\n",
       "2252  False     False          False\n",
       "2253  False     False          False\n",
       "2254  False     False          False\n",
       "2255  False     False          False\n",
       "2256  False     False          False\n",
       "\n",
       "[2257 rows x 3 columns]"
      ]
     },
     "execution_count": 22,
     "metadata": {},
     "output_type": "execute_result"
    }
   ],
   "source": [
    "X.isnull()"
   ]
  },
  {
   "cell_type": "code",
   "execution_count": 23,
   "metadata": {},
   "outputs": [
    {
     "data": {
      "text/plain": [
       "text             (The amoung of missing records is: , 0)\n",
       "category         (The amoung of missing records is: , 0)\n",
       "category_name    (The amoung of missing records is: , 0)\n",
       "dtype: object"
      ]
     },
     "execution_count": 23,
     "metadata": {},
     "output_type": "execute_result"
    }
   ],
   "source": [
    "X.isnull().apply(lambda x: dmh.check_missing_values(x),axis=0)\n",
    "#apply: Objects passed to functions are Series objects having index either the DataFrame’s index (axis=0) \n",
    "#        or the columns (axis=1)."
   ]
  },
  {
   "cell_type": "markdown",
   "metadata": {},
   "source": [
    "#### *Details of apply function\n",
    "\n",
    "```python\n",
    "import pandas as pd\n",
    "import numpy as np\n",
    "df = {'one' : pd.Series([1., 2., 3.], index=['a', 'b', 'c']),'two' : pd.Series([1., 2., 3., 4.], index=['a', 'b', 'c', 'd'])}\n",
    "df = pd.DataFrame(df)\n",
    "df.isnull().apply(np.sum, axis=0)\n",
    "df.apply(np.sqrt) # returns DataFrame\n",
    "df.apply(np.sum, axis=0) # equiv to df.sum(0)\n",
    "df.apply(np.sum, axis=1) # equiv to df.sum(1)\n",
    "```"
   ]
  },
  {
   "cell_type": "markdown",
   "metadata": {},
   "source": [
    "####  Exercise 1\n",
    "```python\n",
    "X.isnull().apply(lambda x: dmh.check_missing_values(x),axis=1)\n",
    "```"
   ]
  },
  {
   "cell_type": "code",
   "execution_count": 24,
   "metadata": {
    "collapsed": true
   },
   "outputs": [],
   "source": [
    "dummy_series = pd.Series([\"dummy_record\", 1], index=[\"text\", \"category\"])"
   ]
  },
  {
   "cell_type": "code",
   "execution_count": 25,
   "metadata": {},
   "outputs": [
    {
     "data": {
      "text/plain": [
       "text        dummy_record\n",
       "category               1\n",
       "dtype: object"
      ]
     },
     "execution_count": 25,
     "metadata": {},
     "output_type": "execute_result"
    }
   ],
   "source": [
    "dummy_series"
   ]
  },
  {
   "cell_type": "code",
   "execution_count": 26,
   "metadata": {
    "collapsed": true
   },
   "outputs": [],
   "source": [
    "result_with_series = X.append(dummy_series, ignore_index=True)"
   ]
  },
  {
   "cell_type": "code",
   "execution_count": 27,
   "metadata": {},
   "outputs": [
    {
     "data": {
      "text/plain": [
       "2258"
      ]
     },
     "execution_count": 27,
     "metadata": {},
     "output_type": "execute_result"
    }
   ],
   "source": [
    "# check if the records was commited into result\n",
    "len(result_with_series)"
   ]
  },
  {
   "cell_type": "code",
   "execution_count": 28,
   "metadata": {},
   "outputs": [
    {
     "data": {
      "text/plain": [
       "text             (The amoung of missing records is: , 0)\n",
       "category         (The amoung of missing records is: , 0)\n",
       "category_name    (The amoung of missing records is: , 1)\n",
       "dtype: object"
      ]
     },
     "execution_count": 28,
     "metadata": {},
     "output_type": "execute_result"
    }
   ],
   "source": [
    "result_with_series.isnull().apply(lambda x: dmh.check_missing_values(x))"
   ]
  },
  {
   "cell_type": "code",
   "execution_count": 29,
   "metadata": {
    "collapsed": true
   },
   "outputs": [],
   "source": [
    "dummy_dict = [{'text': 'dummy_record', 'category': 1 }]"
   ]
  },
  {
   "cell_type": "code",
   "execution_count": 30,
   "metadata": {},
   "outputs": [
    {
     "data": {
      "text/plain": [
       "2257"
      ]
     },
     "execution_count": 30,
     "metadata": {},
     "output_type": "execute_result"
    }
   ],
   "source": [
    "len(X)"
   ]
  },
  {
   "cell_type": "code",
   "execution_count": 31,
   "metadata": {
    "collapsed": true
   },
   "outputs": [],
   "source": [
    "X = X.append(dummy_dict,ignore_index=True)"
   ]
  },
  {
   "cell_type": "code",
   "execution_count": 32,
   "metadata": {},
   "outputs": [
    {
     "data": {
      "text/plain": [
       "2258"
      ]
     },
     "execution_count": 32,
     "metadata": {},
     "output_type": "execute_result"
    }
   ],
   "source": [
    "len(X)"
   ]
  },
  {
   "cell_type": "code",
   "execution_count": 33,
   "metadata": {},
   "outputs": [
    {
     "data": {
      "text/plain": [
       "text             (The amoung of missing records is: , 0)\n",
       "category         (The amoung of missing records is: , 0)\n",
       "category_name    (The amoung of missing records is: , 1)\n",
       "dtype: object"
      ]
     },
     "execution_count": 33,
     "metadata": {},
     "output_type": "execute_result"
    }
   ],
   "source": [
    "X.isnull().apply(lambda x: dmh.check_missing_values(x))"
   ]
  },
  {
   "cell_type": "code",
   "execution_count": 34,
   "metadata": {
    "collapsed": true
   },
   "outputs": [],
   "source": [
    "X.dropna(inplace=True)"
   ]
  },
  {
   "cell_type": "code",
   "execution_count": 35,
   "metadata": {},
   "outputs": [
    {
     "data": {
      "text/plain": [
       "text             (The amoung of missing records is: , 0)\n",
       "category         (The amoung of missing records is: , 0)\n",
       "category_name    (The amoung of missing records is: , 0)\n",
       "dtype: object"
      ]
     },
     "execution_count": 35,
     "metadata": {},
     "output_type": "execute_result"
    }
   ],
   "source": [
    "X.isnull().apply(lambda x: dmh.check_missing_values(x))"
   ]
  },
  {
   "cell_type": "markdown",
   "metadata": {},
   "source": [
    "### 4.2 Dealing with Duplicate Data"
   ]
  },
  {
   "cell_type": "code",
   "execution_count": 36,
   "metadata": {
    "collapsed": true
   },
   "outputs": [],
   "source": [
    "#X.duplicated()"
   ]
  },
  {
   "cell_type": "code",
   "execution_count": 37,
   "metadata": {},
   "outputs": [
    {
     "data": {
      "text/plain": [
       "0"
      ]
     },
     "execution_count": 37,
     "metadata": {},
     "output_type": "execute_result"
    }
   ],
   "source": [
    "sum(X.duplicated())"
   ]
  },
  {
   "cell_type": "code",
   "execution_count": 38,
   "metadata": {
    "collapsed": true
   },
   "outputs": [],
   "source": [
    "dummy_duplicate_dict = [{\n",
    "                             'text': 'dummy record',\n",
    "                             'category': 1, \n",
    "                             'category_name': \"dummy category\"\n",
    "                        },\n",
    "                        {\n",
    "                             'text': 'dummy record',\n",
    "                             'category': 1, \n",
    "                             'category_name': \"dummy category\"\n",
    "                        }]"
   ]
  },
  {
   "cell_type": "code",
   "execution_count": 39,
   "metadata": {
    "collapsed": true
   },
   "outputs": [],
   "source": [
    "X = X.append(dummy_duplicate_dict, ignore_index=True)"
   ]
  },
  {
   "cell_type": "code",
   "execution_count": 40,
   "metadata": {},
   "outputs": [
    {
     "data": {
      "text/plain": [
       "2259"
      ]
     },
     "execution_count": 40,
     "metadata": {},
     "output_type": "execute_result"
    }
   ],
   "source": [
    "len(X)"
   ]
  },
  {
   "cell_type": "code",
   "execution_count": 41,
   "metadata": {},
   "outputs": [
    {
     "data": {
      "text/plain": [
       "1"
      ]
     },
     "execution_count": 41,
     "metadata": {},
     "output_type": "execute_result"
    }
   ],
   "source": [
    "sum(X.duplicated('text'))"
   ]
  },
  {
   "cell_type": "code",
   "execution_count": 42,
   "metadata": {
    "collapsed": true
   },
   "outputs": [],
   "source": [
    "X.drop_duplicates(keep=False, inplace=True)"
   ]
  },
  {
   "cell_type": "code",
   "execution_count": 43,
   "metadata": {},
   "outputs": [
    {
     "data": {
      "text/plain": [
       "2257"
      ]
     },
     "execution_count": 43,
     "metadata": {},
     "output_type": "execute_result"
    }
   ],
   "source": [
    "len(X)"
   ]
  },
  {
   "cell_type": "markdown",
   "metadata": {},
   "source": [
    "## 5. Data Preprocessing\n",
    "### 5.1 Sampling"
   ]
  },
  {
   "cell_type": "code",
   "execution_count": 44,
   "metadata": {
    "collapsed": true
   },
   "outputs": [],
   "source": [
    "X_sample = X.sample(n=1000)"
   ]
  },
  {
   "cell_type": "code",
   "execution_count": 45,
   "metadata": {},
   "outputs": [
    {
     "data": {
      "text/plain": [
       "1000"
      ]
     },
     "execution_count": 45,
     "metadata": {},
     "output_type": "execute_result"
    }
   ],
   "source": [
    "len(X_sample)"
   ]
  },
  {
   "cell_type": "code",
   "execution_count": 46,
   "metadata": {},
   "outputs": [
    {
     "data": {
      "text/html": [
       "<div>\n",
       "<style>\n",
       "    .dataframe thead tr:only-child th {\n",
       "        text-align: right;\n",
       "    }\n",
       "\n",
       "    .dataframe thead th {\n",
       "        text-align: left;\n",
       "    }\n",
       "\n",
       "    .dataframe tbody tr th {\n",
       "        vertical-align: top;\n",
       "    }\n",
       "</style>\n",
       "<table border=\"1\" class=\"dataframe\">\n",
       "  <thead>\n",
       "    <tr style=\"text-align: right;\">\n",
       "      <th></th>\n",
       "      <th>text</th>\n",
       "      <th>category</th>\n",
       "      <th>category_name</th>\n",
       "    </tr>\n",
       "  </thead>\n",
       "  <tbody>\n",
       "    <tr>\n",
       "      <th>833</th>\n",
       "      <td>From: edm@twisto.compaq.com (Ed McCreary) Subj...</td>\n",
       "      <td>0</td>\n",
       "      <td>alt.atheism</td>\n",
       "    </tr>\n",
       "    <tr>\n",
       "      <th>425</th>\n",
       "      <td>From: kempmp@phoenix.oulu.fi (Petri Pihko) Sub...</td>\n",
       "      <td>0</td>\n",
       "      <td>alt.atheism</td>\n",
       "    </tr>\n",
       "    <tr>\n",
       "      <th>396</th>\n",
       "      <td>From: kmr4@po.CWRU.edu (Keith M. Ryan) Subject...</td>\n",
       "      <td>0</td>\n",
       "      <td>alt.atheism</td>\n",
       "    </tr>\n",
       "    <tr>\n",
       "      <th>2035</th>\n",
       "      <td>From: petro@server.uwindsor.ca (PETRO DAVID   ...</td>\n",
       "      <td>1</td>\n",
       "      <td>comp.graphics</td>\n",
       "    </tr>\n",
       "  </tbody>\n",
       "</table>\n",
       "</div>"
      ],
      "text/plain": [
       "                                                   text  category  \\\n",
       "833   From: edm@twisto.compaq.com (Ed McCreary) Subj...         0   \n",
       "425   From: kempmp@phoenix.oulu.fi (Petri Pihko) Sub...         0   \n",
       "396   From: kmr4@po.CWRU.edu (Keith M. Ryan) Subject...         0   \n",
       "2035  From: petro@server.uwindsor.ca (PETRO DAVID   ...         1   \n",
       "\n",
       "      category_name  \n",
       "833     alt.atheism  \n",
       "425     alt.atheism  \n",
       "396     alt.atheism  \n",
       "2035  comp.graphics  "
      ]
     },
     "execution_count": 46,
     "metadata": {},
     "output_type": "execute_result"
    }
   ],
   "source": [
    "X_sample[0:4]"
   ]
  },
  {
   "cell_type": "code",
   "execution_count": 47,
   "metadata": {
    "collapsed": true
   },
   "outputs": [],
   "source": [
    "X_category_counts = ta.get_tokens_and_frequency(list(X.category_name))\n",
    "X_sample_category_counts = ta.get_tokens_and_frequency(list(X_sample.category_name))\n",
    "\n",
    "#print(X_category_counts)\n",
    "#print(X_category_counts[0])\n",
    "#print(X_category_counts[1])"
   ]
  },
  {
   "cell_type": "code",
   "execution_count": 48,
   "metadata": {
    "collapsed": true
   },
   "outputs": [],
   "source": [
    "#py.iplot(ta.plot_word_frequency(X_category_counts, \"Category distribution\"))\n",
    "#py.plot(ta.plot_word_frequency(X_sample_category_counts, \"Category distribution\"))"
   ]
  },
  {
   "cell_type": "markdown",
   "metadata": {},
   "source": [
    "####  Exercise 2  \n",
    "```python\n",
    "import matplotlib.pyplot as plt\n",
    "# Setting the positions and width for the bars\n",
    "pos = list(range(4)) \n",
    "width = 0.25 \n",
    "\n",
    "# Plotting the bars\n",
    "fig, ax = plt.subplots(figsize=(10,5))\n",
    "\n",
    "# Create a bar with pre_score data,\n",
    "# in position pos,\n",
    "plt.bar(pos, X.category_name.value_counts(), width, alpha=0.8,\n",
    "        color='g',label='Original data set') \n",
    "\n",
    "# Create a bar with mid_score data,\n",
    "# in position pos + some width buffer,\n",
    "plt.bar([p + width for p in pos],X_sample.category_name.value_counts(), width, alpha=0.8,\n",
    "        color='midnightblue',label='Sample data set') \n",
    "\n",
    "# Set the y axis label\n",
    "ax.set_ylabel('Count')\n",
    "\n",
    "# Set the chart's title\n",
    "ax.set_title('Category distribution')\n",
    "\n",
    "# Set the position of the x ticks\n",
    "ax.set_xticks([p + 1.5 * width for p in pos])\n",
    "\n",
    "# Set the labels for the x ticks\n",
    "ax.set_xticklabels(X.category_name.value_counts().index)\n",
    "\n",
    "# Setting the x-axis and y-axis limits\n",
    "plt.xlim(min(pos)-width, max(pos)+width*4)\n",
    "plt.ylim([0, 630])\n",
    "\n",
    "# Adding the legend and showing the plot\n",
    "plt.legend(['Original', 'Saampling'], loc='upper right')\n",
    "plt.grid()\n",
    "plt.show()\n",
    "```"
   ]
  },
  {
   "cell_type": "code",
   "execution_count": 49,
   "metadata": {},
   "outputs": [
    {
     "data": {
      "text/plain": [
       "<matplotlib.axes._subplots.AxesSubplot at 0x27355381588>"
      ]
     },
     "execution_count": 49,
     "metadata": {},
     "output_type": "execute_result"
    },
    {
     "data": {
      "image/png": "[encoded data removed]",
      "text/plain": [
       "<matplotlib.figure.Figure at 0x2735206ff28>"
      ]
     },
     "metadata": {},
     "output_type": "display_data"
    }
   ],
   "source": [
    "X.category_name.value_counts().plot(kind=\"bar\", rot=0)"
   ]
  },
  {
   "cell_type": "code",
   "execution_count": 50,
   "metadata": {
    "scrolled": true
   },
   "outputs": [
    {
     "data": {
      "text/plain": [
       "<matplotlib.axes._subplots.AxesSubplot at 0x27352476668>"
      ]
     },
     "execution_count": 50,
     "metadata": {},
     "output_type": "execute_result"
    },
    {
     "data": {
      "image/png": "[encoded data removed]",
      "text/plain": [
       "<matplotlib.figure.Figure at 0x27353f7f048>"
      ]
     },
     "metadata": {},
     "output_type": "display_data"
    }
   ],
   "source": [
    "X_sample.category_name.value_counts().plot(kind=\"bar\", rot=0)"
   ]
  },
  {
   "cell_type": "markdown",
   "metadata": {
    "collapsed": true
   },
   "source": [
    "### 5.2 Feature Creation\n",
    "\n",
    "*Deatails/examples of nltk.sent_tokenize and nltk.word_tokenize\n",
    "```python\n",
    "text = \"this’s a sent tokenize test. this is sent two. is this sent three? sent 4 is cool! Now it’s your turn.\"\n",
    "from nltk.tokenize import sent_tokenize\n",
    "sent_tokenize_list = sent_tokenize(text)\n",
    "print(sent_tokenize_list)  #cut into sentences\n",
    "\n",
    "from nltk.tokenize import word_tokenize\n",
    "for d in sent_tokenize_list:\n",
    "  a=word_tokenize(d, language='english')\n",
    "  print(a) #cut into words\n",
    "\n",
    "```"
   ]
  },
  {
   "cell_type": "code",
   "execution_count": 216,
   "metadata": {},
   "outputs": [
    {
     "data": {
      "text/plain": [
       "0    [From, :, sd345, @, city.ac.uk, (, Michael, Co...\n",
       "Name: text, dtype: object"
      ]
     },
     "execution_count": 216,
     "metadata": {},
     "output_type": "execute_result"
    }
   ],
   "source": [
    "X['text'][0:1].apply(lambda x: dmh.tokenize_text(x))"
   ]
  },
  {
   "cell_type": "code",
   "execution_count": 218,
   "metadata": {},
   "outputs": [
    {
     "data": {
      "text/plain": [
       "(2257,)"
      ]
     },
     "execution_count": 218,
     "metadata": {},
     "output_type": "execute_result"
    }
   ],
   "source": [
    "import nltk\n",
    "#nltk.download()\n",
    "# takes a like a minute or two to process\n",
    "X['unigrams'] = X['text'].apply(lambda x: dmh.tokenize_text(x))"
   ]
  },
  {
   "cell_type": "code",
   "execution_count": 224,
   "metadata": {},
   "outputs": [
    {
     "data": {
      "text/plain": [
       "0    [From, :, sd345, @, city.ac.uk, (, Michael, Co...\n",
       "1    [From, :, ani, @, ms.uky.edu, (, Aniruddha, B....\n",
       "2    [From, :, djohnson, @, cs.ucsd.edu, (, Darin, ...\n",
       "3    [From, :, s0612596, @, let.rug.nl, (, M.M, ., ...\n",
       "Name: unigrams, dtype: object"
      ]
     },
     "execution_count": 224,
     "metadata": {},
     "output_type": "execute_result"
    }
   ],
   "source": [
    "X[0:4][\"unigrams\"]"
   ]
  },
  {
   "cell_type": "code",
   "execution_count": 53,
   "metadata": {},
   "outputs": [
    {
     "data": {
      "text/plain": [
       "[['From',\n",
       "  ':',\n",
       "  'sd345',\n",
       "  '@',\n",
       "  'city.ac.uk',\n",
       "  '(',\n",
       "  'Michael',\n",
       "  'Collier',\n",
       "  ')',\n",
       "  'Subject',\n",
       "  ':',\n",
       "  'Converting',\n",
       "  'images',\n",
       "  'to',\n",
       "  'HP',\n",
       "  'LaserJet',\n",
       "  'III',\n",
       "  '?',\n",
       "  'Nntp-Posting-Host',\n",
       "  ':',\n",
       "  'hampton',\n",
       "  'Organization',\n",
       "  ':',\n",
       "  'The',\n",
       "  'City',\n",
       "  'University',\n",
       "  'Lines',\n",
       "  ':',\n",
       "  '14',\n",
       "  'Does',\n",
       "  'anyone',\n",
       "  'know',\n",
       "  'of',\n",
       "  'a',\n",
       "  'good',\n",
       "  'way',\n",
       "  '(',\n",
       "  'standard',\n",
       "  'PC',\n",
       "  'application/PD',\n",
       "  'utility',\n",
       "  ')',\n",
       "  'to',\n",
       "  'convert',\n",
       "  'tif/img/tga',\n",
       "  'files',\n",
       "  'into',\n",
       "  'LaserJet',\n",
       "  'III',\n",
       "  'format',\n",
       "  '.',\n",
       "  'We',\n",
       "  'would',\n",
       "  'also',\n",
       "  'like',\n",
       "  'to',\n",
       "  'do',\n",
       "  'the',\n",
       "  'same',\n",
       "  ',',\n",
       "  'converting',\n",
       "  'to',\n",
       "  'HPGL',\n",
       "  '(',\n",
       "  'HP',\n",
       "  'plotter',\n",
       "  ')',\n",
       "  'files',\n",
       "  '.',\n",
       "  'Please',\n",
       "  'email',\n",
       "  'any',\n",
       "  'response',\n",
       "  '.',\n",
       "  'Is',\n",
       "  'this',\n",
       "  'the',\n",
       "  'correct',\n",
       "  'group',\n",
       "  '?',\n",
       "  'Thanks',\n",
       "  'in',\n",
       "  'advance',\n",
       "  '.',\n",
       "  'Michael',\n",
       "  '.',\n",
       "  '--',\n",
       "  'Michael',\n",
       "  'Collier',\n",
       "  '(',\n",
       "  'Programmer',\n",
       "  ')',\n",
       "  'The',\n",
       "  'Computer',\n",
       "  'Unit',\n",
       "  ',',\n",
       "  'Email',\n",
       "  ':',\n",
       "  'M.P.Collier',\n",
       "  '@',\n",
       "  'uk.ac.city',\n",
       "  'The',\n",
       "  'City',\n",
       "  'University',\n",
       "  ',',\n",
       "  'Tel',\n",
       "  ':',\n",
       "  '071',\n",
       "  '477-8000',\n",
       "  'x3769',\n",
       "  'London',\n",
       "  ',',\n",
       "  'Fax',\n",
       "  ':',\n",
       "  '071',\n",
       "  '477-8565',\n",
       "  'EC1V',\n",
       "  '0HB',\n",
       "  '.']]"
      ]
     },
     "execution_count": 53,
     "metadata": {},
     "output_type": "execute_result"
    }
   ],
   "source": [
    "list(X[0:1]['unigrams'])"
   ]
  },
  {
   "cell_type": "markdown",
   "metadata": {},
   "source": [
    "### 5.3 Feature subset selection"
   ]
  },
  {
   "cell_type": "code",
   "execution_count": 290,
   "metadata": {},
   "outputs": [
    {
     "name": "stdout",
     "output_type": "stream",
     "text": [
      "(2257, 35788)\n"
     ]
    }
   ],
   "source": [
    "count_vect = CountVectorizer()\n",
    "X_counts = count_vect.fit_transform(X.text)  #取句子中不重複的值，會去掉標點或符號,即get_feature_names()的長度\n",
    "print(X_counts.shape)#count_vect.get_feature_names()"
   ]
  },
  {
   "cell_type": "code",
   "execution_count": 291,
   "metadata": {},
   "outputs": [
    {
     "data": {
      "text/plain": [
       "['from',\n",
       " 'stanly',\n",
       " 'grok11',\n",
       " 'columbiasc',\n",
       " 'ncr',\n",
       " 'com',\n",
       " 'stanly',\n",
       " 'subject',\n",
       " 're',\n",
       " 'elder',\n",
       " 'brother',\n",
       " 'organization',\n",
       " 'ncr',\n",
       " 'corp',\n",
       " 'columbia',\n",
       " 'sc',\n",
       " 'lines',\n",
       " '15',\n",
       " 'in',\n",
       " 'article',\n",
       " 'apr',\n",
       " '00',\n",
       " '57',\n",
       " '41',\n",
       " '1993',\n",
       " '28246',\n",
       " 'athos',\n",
       " 'rutgers',\n",
       " 'edu',\n",
       " 'rexlex',\n",
       " 'fnal',\n",
       " 'gov',\n",
       " 'writes',\n",
       " 'in',\n",
       " 'article',\n",
       " 'apr',\n",
       " '01',\n",
       " '56',\n",
       " '56',\n",
       " '1993',\n",
       " '22824',\n",
       " 'athos',\n",
       " 'rutgers',\n",
       " 'edu',\n",
       " 'shrum',\n",
       " 'hpfcso',\n",
       " 'fc',\n",
       " 'hp',\n",
       " 'com',\n",
       " 'matt',\n",
       " '22',\n",
       " '14',\n",
       " 'go',\n",
       " 'therefore',\n",
       " 'to',\n",
       " 'the',\n",
       " 'main',\n",
       " 'highways',\n",
       " 'and',\n",
       " 'as',\n",
       " 'many',\n",
       " 'as',\n",
       " 'you',\n",
       " 'find',\n",
       " 'there',\n",
       " 'invite',\n",
       " 'to',\n",
       " 'the',\n",
       " 'wedding',\n",
       " 'feast',\n",
       " 'hmmmmmm',\n",
       " 'sounds',\n",
       " 'like',\n",
       " 'your',\n",
       " 'theology',\n",
       " 'and',\n",
       " 'christ',\n",
       " 'are',\n",
       " 'at',\n",
       " 'odds',\n",
       " 'which',\n",
       " 'one',\n",
       " 'am',\n",
       " 'to',\n",
       " 'believe',\n",
       " 'in',\n",
       " 'this',\n",
       " 'parable',\n",
       " 'jesus',\n",
       " 'tells',\n",
       " 'the',\n",
       " 'parable',\n",
       " 'of',\n",
       " 'the',\n",
       " 'wedding',\n",
       " 'feast',\n",
       " 'the',\n",
       " 'kingdom',\n",
       " 'of',\n",
       " 'heaven',\n",
       " 'is',\n",
       " 'like',\n",
       " 'unto',\n",
       " 'certain',\n",
       " 'king',\n",
       " 'which',\n",
       " 'made',\n",
       " 'marriage',\n",
       " 'for',\n",
       " 'his',\n",
       " 'son',\n",
       " 'so',\n",
       " 'the',\n",
       " 'wedding',\n",
       " 'clothes',\n",
       " 'were',\n",
       " 'customary',\n",
       " 'and',\n",
       " 'given',\n",
       " 'to',\n",
       " 'those',\n",
       " 'who',\n",
       " 'chose',\n",
       " 'to',\n",
       " 'attend',\n",
       " 'this',\n",
       " 'man',\n",
       " 'refused',\n",
       " 'to',\n",
       " 'wear',\n",
       " 'the',\n",
       " 'clothes',\n",
       " 'the',\n",
       " 'wedding',\n",
       " 'clothes',\n",
       " 'are',\n",
       " 'equalivant',\n",
       " 'to',\n",
       " 'the',\n",
       " 'clothes',\n",
       " 'of',\n",
       " 'righteousness',\n",
       " 'when',\n",
       " 'jesus',\n",
       " 'died',\n",
       " 'for',\n",
       " 'our',\n",
       " 'sins',\n",
       " 'those',\n",
       " 'clothes',\n",
       " 'were',\n",
       " 'then',\n",
       " 'provided',\n",
       " 'like',\n",
       " 'that',\n",
       " 'man',\n",
       " 'it',\n",
       " 'is',\n",
       " 'our',\n",
       " 'decision',\n",
       " 'to',\n",
       " 'put',\n",
       " 'the',\n",
       " 'clothes',\n",
       " 'on']"
      ]
     },
     "execution_count": 291,
     "metadata": {},
     "output_type": "execute_result"
    }
   ],
   "source": [
    "analyze = count_vect.build_analyzer()\n",
    "analyze(\" \".join(list(X[4:5].text))) "
   ]
  },
  {
   "cell_type": "code",
   "execution_count": 292,
   "metadata": {},
   "outputs": [
    {
     "data": {
      "text/plain": [
       "966"
      ]
     },
     "execution_count": 292,
     "metadata": {},
     "output_type": "execute_result"
    }
   ],
   "source": [
    "len(\" \".join(list(X[4:5].text)))"
   ]
  },
  {
   "cell_type": "code",
   "execution_count": 293,
   "metadata": {},
   "outputs": [
    {
     "data": {
      "text/plain": [
       "(2257, 35788)"
      ]
     },
     "execution_count": 293,
     "metadata": {},
     "output_type": "execute_result"
    }
   ],
   "source": [
    "# We can check the shape of this matrix by:\n",
    "X_counts.shape"
   ]
  },
  {
   "cell_type": "code",
   "execution_count": 294,
   "metadata": {},
   "outputs": [
    {
     "data": {
      "text/plain": [
       "['00',\n",
       " '000',\n",
       " '0000',\n",
       " '0000001200',\n",
       " '000005102000',\n",
       " '0001',\n",
       " '000100255pixel',\n",
       " '00014',\n",
       " '000406',\n",
       " '0007']"
      ]
     },
     "execution_count": 294,
     "metadata": {},
     "output_type": "execute_result"
    }
   ],
   "source": [
    "# We can obtain the feature names of the vectorizer, i.e., the terms\n",
    "count_vect.get_feature_names()[0:10]"
   ]
  },
  {
   "cell_type": "code",
   "execution_count": 295,
   "metadata": {},
   "outputs": [
    {
     "data": {
      "text/html": [
       "<div>\n",
       "<style>\n",
       "    .dataframe thead tr:only-child th {\n",
       "        text-align: right;\n",
       "    }\n",
       "\n",
       "    .dataframe thead th {\n",
       "        text-align: left;\n",
       "    }\n",
       "\n",
       "    .dataframe tbody tr th {\n",
       "        vertical-align: top;\n",
       "    }\n",
       "</style>\n",
       "<table border=\"1\" class=\"dataframe\">\n",
       "  <thead>\n",
       "    <tr style=\"text-align: right;\">\n",
       "      <th></th>\n",
       "      <th>text</th>\n",
       "      <th>category</th>\n",
       "      <th>category_name</th>\n",
       "      <th>unigrams</th>\n",
       "      <th>bin_category</th>\n",
       "    </tr>\n",
       "  </thead>\n",
       "  <tbody>\n",
       "    <tr>\n",
       "      <th>0</th>\n",
       "      <td>From: sd345@city.ac.uk (Michael Collier) Subje...</td>\n",
       "      <td>1</td>\n",
       "      <td>comp.graphics</td>\n",
       "      <td>[From, :, sd345, @, city.ac.uk, (, Michael, Co...</td>\n",
       "      <td>[0, 1, 0, 0]</td>\n",
       "    </tr>\n",
       "    <tr>\n",
       "      <th>1</th>\n",
       "      <td>From: ani@ms.uky.edu (Aniruddha B. Deglurkar) ...</td>\n",
       "      <td>1</td>\n",
       "      <td>comp.graphics</td>\n",
       "      <td>[From, :, ani, @, ms.uky.edu, (, Aniruddha, B....</td>\n",
       "      <td>[0, 1, 0, 0]</td>\n",
       "    </tr>\n",
       "    <tr>\n",
       "      <th>2</th>\n",
       "      <td>From: djohnson@cs.ucsd.edu (Darin Johnson) Sub...</td>\n",
       "      <td>3</td>\n",
       "      <td>soc.religion.christian</td>\n",
       "      <td>[From, :, djohnson, @, cs.ucsd.edu, (, Darin, ...</td>\n",
       "      <td>[0, 0, 0, 1]</td>\n",
       "    </tr>\n",
       "    <tr>\n",
       "      <th>3</th>\n",
       "      <td>From: s0612596@let.rug.nl (M.M. Zwart) Subject...</td>\n",
       "      <td>3</td>\n",
       "      <td>soc.religion.christian</td>\n",
       "      <td>[From, :, s0612596, @, let.rug.nl, (, M.M, ., ...</td>\n",
       "      <td>[0, 0, 0, 1]</td>\n",
       "    </tr>\n",
       "    <tr>\n",
       "      <th>4</th>\n",
       "      <td>From: stanly@grok11.columbiasc.ncr.com (stanly...</td>\n",
       "      <td>3</td>\n",
       "      <td>soc.religion.christian</td>\n",
       "      <td>[From, :, stanly, @, grok11.columbiasc.ncr.com...</td>\n",
       "      <td>[0, 0, 0, 1]</td>\n",
       "    </tr>\n",
       "  </tbody>\n",
       "</table>\n",
       "</div>"
      ],
      "text/plain": [
       "                                                text  category  \\\n",
       "0  From: sd345@city.ac.uk (Michael Collier) Subje...         1   \n",
       "1  From: ani@ms.uky.edu (Aniruddha B. Deglurkar) ...         1   \n",
       "2  From: djohnson@cs.ucsd.edu (Darin Johnson) Sub...         3   \n",
       "3  From: s0612596@let.rug.nl (M.M. Zwart) Subject...         3   \n",
       "4  From: stanly@grok11.columbiasc.ncr.com (stanly...         3   \n",
       "\n",
       "            category_name                                           unigrams  \\\n",
       "0           comp.graphics  [From, :, sd345, @, city.ac.uk, (, Michael, Co...   \n",
       "1           comp.graphics  [From, :, ani, @, ms.uky.edu, (, Aniruddha, B....   \n",
       "2  soc.religion.christian  [From, :, djohnson, @, cs.ucsd.edu, (, Darin, ...   \n",
       "3  soc.religion.christian  [From, :, s0612596, @, let.rug.nl, (, M.M, ., ...   \n",
       "4  soc.religion.christian  [From, :, stanly, @, grok11.columbiasc.ncr.com...   \n",
       "\n",
       "   bin_category  \n",
       "0  [0, 1, 0, 0]  \n",
       "1  [0, 1, 0, 0]  \n",
       "2  [0, 0, 0, 1]  \n",
       "3  [0, 0, 0, 1]  \n",
       "4  [0, 0, 0, 1]  "
      ]
     },
     "execution_count": 295,
     "metadata": {},
     "output_type": "execute_result"
    }
   ],
   "source": [
    "X[0:5]"
   ]
  },
  {
   "cell_type": "code",
   "execution_count": 296,
   "metadata": {},
   "outputs": [
    {
     "data": {
      "text/plain": [
       "array([[0, 0, 0, 0, 0, 0, 0, 0, 0, 0, 0, 0, 0, 0, 0, 0, 0, 0, 0, 0, 0, 0,\n",
       "        0, 0, 0, 0, 0, 0, 0, 0, 0, 0, 0, 0, 0, 0, 0, 0, 0, 0, 0, 0, 0, 0,\n",
       "        0, 0, 0, 0, 0, 0, 0, 0, 0, 0, 0, 0, 0, 0, 0, 0, 0, 0, 0, 0, 0, 0,\n",
       "        0, 0, 0, 0, 0, 0, 0, 0, 0, 0, 0, 0, 0, 0, 0, 0, 0, 0, 0, 0, 0, 0,\n",
       "        0, 0, 0, 0, 0, 0, 0, 0, 0, 0, 0, 0],\n",
       "       [0, 0, 0, 0, 0, 0, 0, 0, 0, 0, 0, 0, 0, 0, 0, 0, 0, 0, 0, 0, 0, 0,\n",
       "        0, 0, 0, 0, 0, 0, 0, 0, 0, 0, 0, 0, 0, 0, 0, 0, 0, 0, 0, 0, 0, 0,\n",
       "        0, 0, 0, 0, 0, 0, 0, 0, 0, 0, 0, 0, 0, 0, 0, 0, 0, 0, 0, 0, 0, 0,\n",
       "        0, 0, 0, 0, 0, 0, 0, 0, 0, 0, 0, 0, 0, 0, 0, 0, 0, 0, 0, 0, 0, 0,\n",
       "        0, 0, 0, 0, 0, 0, 0, 0, 0, 0, 0, 0],\n",
       "       [0, 0, 0, 0, 0, 0, 0, 0, 0, 0, 0, 0, 0, 0, 0, 0, 0, 0, 0, 0, 0, 0,\n",
       "        0, 0, 0, 0, 0, 0, 0, 0, 0, 0, 0, 0, 0, 0, 0, 0, 0, 0, 0, 0, 0, 0,\n",
       "        0, 0, 0, 0, 0, 0, 0, 0, 0, 0, 0, 0, 0, 0, 0, 0, 0, 0, 0, 0, 0, 0,\n",
       "        0, 0, 0, 0, 0, 0, 0, 0, 0, 0, 0, 0, 0, 0, 0, 0, 0, 0, 0, 0, 0, 0,\n",
       "        0, 0, 0, 0, 0, 0, 0, 0, 0, 0, 0, 0],\n",
       "       [0, 0, 0, 0, 0, 0, 0, 0, 0, 0, 0, 0, 0, 0, 0, 0, 0, 0, 0, 0, 0, 0,\n",
       "        0, 0, 0, 0, 0, 0, 0, 0, 0, 0, 0, 0, 0, 0, 0, 0, 0, 0, 0, 0, 0, 0,\n",
       "        0, 0, 0, 0, 0, 0, 0, 0, 0, 0, 0, 0, 0, 0, 0, 0, 0, 0, 0, 0, 0, 0,\n",
       "        0, 0, 0, 0, 0, 0, 0, 0, 0, 0, 0, 0, 0, 0, 0, 0, 0, 0, 0, 0, 0, 0,\n",
       "        0, 0, 0, 0, 0, 0, 0, 0, 0, 0, 0, 0],\n",
       "       [1, 0, 0, 0, 0, 0, 0, 0, 0, 0, 0, 0, 0, 0, 0, 0, 0, 0, 0, 0, 0, 0,\n",
       "        0, 0, 0, 0, 0, 0, 0, 0, 0, 0, 0, 0, 0, 0, 0, 1, 0, 0, 0, 0, 0, 0,\n",
       "        0, 0, 0, 0, 0, 0, 0, 0, 0, 0, 0, 0, 0, 0, 0, 0, 0, 0, 0, 0, 0, 0,\n",
       "        0, 0, 0, 0, 0, 0, 0, 0, 0, 0, 0, 0, 0, 0, 0, 0, 0, 0, 0, 0, 0, 0,\n",
       "        0, 0, 0, 0, 0, 0, 0, 0, 0, 0, 0, 0]], dtype=int64)"
      ]
     },
     "execution_count": 296,
     "metadata": {},
     "output_type": "execute_result"
    }
   ],
   "source": [
    "X_counts[0:5,0:100].toarray()"
   ]
  },
  {
   "cell_type": "code",
   "execution_count": 297,
   "metadata": {},
   "outputs": [
    {
     "data": {
      "text/plain": [
       "array([[0, 0, 0, ..., 0, 0, 0]], dtype=int64)"
      ]
     },
     "execution_count": 297,
     "metadata": {},
     "output_type": "execute_result"
    }
   ],
   "source": [
    "count_vect.transform(['Something completely new.']).toarray()"
   ]
  },
  {
   "cell_type": "code",
   "execution_count": 298,
   "metadata": {},
   "outputs": [
    {
     "data": {
      "text/plain": [
       "array([[0, 0, 1, ..., 0, 0, 0]], dtype=int64)"
      ]
     },
     "execution_count": 298,
     "metadata": {},
     "output_type": "execute_result"
    }
   ],
   "source": [
    "count_vect.transform(['0000=Something completely new.']).toarray()"
   ]
  },
  {
   "cell_type": "code",
   "execution_count": 299,
   "metadata": {},
   "outputs": [
    {
     "name": "stdout",
     "output_type": "stream",
     "text": [
      "['term_00', 'term_000', 'term_0000', 'term_0000001200', 'term_000005102000', 'term_0001', 'term_000100255pixel', 'term_00014', 'term_000406', 'term_0007', 'term_000usd', 'term_0010', 'term_001004', 'term_0010580b', 'term_001125', 'term_001200201pixel', 'term_0014', 'term_001642', 'term_00196', 'term_002']\n"
     ]
    }
   ],
   "source": [
    "plot_x = [\"term_\"+str(i) for i in count_vect.get_feature_names()[0:20]]\n",
    "print(plot_x)"
   ]
  },
  {
   "cell_type": "code",
   "execution_count": 300,
   "metadata": {},
   "outputs": [
    {
     "name": "stdout",
     "output_type": "stream",
     "text": [
      "['doc_0', 'doc_1', 'doc_2', 'doc_3', 'doc_4', 'doc_5', 'doc_6', 'doc_7', 'doc_8', 'doc_9', 'doc_10', 'doc_11', 'doc_12', 'doc_13', 'doc_14', 'doc_15', 'doc_16', 'doc_17', 'doc_18', 'doc_19']\n"
     ]
    }
   ],
   "source": [
    "plot_y = [\"doc_\"+ str(i) for i in list(X.index)[0:20]]\n",
    "print(plot_y)"
   ]
  },
  {
   "cell_type": "code",
   "execution_count": 301,
   "metadata": {},
   "outputs": [
    {
     "name": "stdout",
     "output_type": "stream",
     "text": [
      "[[0 0 0 0 0 0 0 0 0 0 0 0 0 0 0 0 0 0 0 0]\n",
      " [0 0 0 0 0 0 0 0 0 0 0 0 0 0 0 0 0 0 0 0]\n",
      " [0 0 0 0 0 0 0 0 0 0 0 0 0 0 0 0 0 0 0 0]\n",
      " [0 0 0 0 0 0 0 0 0 0 0 0 0 0 0 0 0 0 0 0]\n",
      " [1 0 0 0 0 0 0 0 0 0 0 0 0 0 0 0 0 0 0 0]\n",
      " [1 0 0 0 0 0 0 0 0 0 0 0 0 0 0 0 0 0 0 0]\n",
      " [0 0 0 0 0 0 0 0 0 0 0 0 0 0 0 0 0 0 0 0]\n",
      " [0 0 0 0 0 0 0 0 0 0 0 0 0 0 0 0 0 0 0 0]\n",
      " [0 0 0 0 0 0 0 0 0 0 0 0 0 0 0 0 0 0 0 0]\n",
      " [0 0 0 0 0 0 0 0 0 0 0 0 0 0 0 0 0 0 0 0]\n",
      " [0 0 0 0 0 0 0 0 0 0 0 0 0 0 0 0 0 0 0 0]\n",
      " [0 0 0 0 0 0 0 0 0 0 0 0 0 0 0 0 0 0 0 0]\n",
      " [0 0 0 0 0 0 0 0 0 0 0 0 0 0 0 0 0 0 0 0]\n",
      " [0 0 0 0 0 0 0 0 0 0 0 0 0 0 0 0 0 0 0 0]\n",
      " [0 0 0 0 0 0 0 0 0 0 0 0 0 0 0 0 0 0 0 0]\n",
      " [0 0 0 0 0 0 0 0 0 0 0 0 0 0 0 0 0 0 0 0]\n",
      " [0 0 0 0 0 0 0 0 0 0 0 0 0 0 0 0 0 0 0 0]\n",
      " [0 0 0 0 0 0 0 0 0 0 0 0 0 0 0 0 0 0 0 0]\n",
      " [0 0 0 0 0 0 0 0 0 0 0 0 0 0 0 0 0 0 0 0]\n",
      " [0 0 0 0 0 0 0 0 0 0 0 0 0 0 0 0 0 0 0 0]]\n"
     ]
    }
   ],
   "source": [
    "plot_z = X_counts[0:20, 0:20].toarray()\n",
    "print(plot_z)"
   ]
  },
  {
   "cell_type": "code",
   "execution_count": 302,
   "metadata": {},
   "outputs": [
    {
     "data": {
      "image/png": "[encoded data removed]",
      "text/plain": [
       "<matplotlib.figure.Figure at 0x27352d5cb38>"
      ]
     },
     "metadata": {},
     "output_type": "display_data"
    }
   ],
   "source": [
    "# to plot\n",
    "import matplotlib.pyplot as plt\n",
    "fig, ax = plt.subplots(figsize=(10, 5))\n",
    "plt.axis([0, 19, 0, 19])\n",
    "plt.xticks(range(20),plot_x,rotation=270)\n",
    "plt.yticks(range(20),plot_y,rotation=0)\n",
    "ax.imshow(plot_z,cmap=\"summer\")\n",
    "plt.colorbar(ax.imshow(plot_z,cmap=\"summer\"))\n",
    "ax.set_aspect('auto')\n",
    "plt.show()"
   ]
  },
  {
   "cell_type": "code",
   "execution_count": 356,
   "metadata": {},
   "outputs": [
    {
     "data": {
      "image/png": "[encoded data removed]",
      "text/plain": [
       "<matplotlib.figure.Figure at 0x273028f3c50>"
      ]
     },
     "metadata": {},
     "output_type": "display_data"
    }
   ],
   "source": [
    "### Exercise 3\n",
    "import random as rd\n",
    "rd.seed(123)\n",
    "X_sample_20=X.sample(n=20)\n",
    "plot_x = [\"term_\"+str(i) for i in count_vect.get_feature_names()[0:30]]\n",
    "plot_y = [\"doc_\"+ str(i) for i in list(X_sample_20.index)]\n",
    "\n",
    "plot_z =count_vect.transform(X_sample_20.text)[:,0:30].toarray()\n",
    "#print(len(count_vect.get_feature_names()))\n",
    "#print(X_sample_50_counts.toarray().shape)\n",
    "#print(plot_x)\n",
    "#print(len(plot_y))\n",
    "#print(plot_z.shape)\n",
    "fig, ax = plt.subplots(figsize=(15, 8))\n",
    "plt.axis([0, 29, 0, 19])\n",
    "plt.xticks(range(30),plot_x,rotation=270)\n",
    "plt.yticks(range(20),plot_y,rotation=0)\n",
    "ax.imshow(plot_z,cmap=\"plasma\",alpha=0.3)\n",
    "plt.colorbar(ax.imshow(plot_z,cmap=\"plasma\",alpha=0.3))\n",
    "ax.set_aspect('auto')\n",
    "plt.show()"
   ]
  },
  {
   "cell_type": "code",
   "execution_count": 358,
   "metadata": {},
   "outputs": [
    {
     "data": {
      "text/plain": [
       "\"From: dutc0006@student.tc.umn.edu (David J Dutcher-1) Subject: Re: VGA 640x400 graphics mode Nntp-Posting-Host: student.tc.umn.edu Organization: University of Minnesota Lines: 23  In article <734553308snx@rjck.UUCP> rob@rjck.UUCP (Robert J.C. Kyanko) writes: >gchen@essex.ecn.uoknor.edu writes in article <C55DoH.2AI@constellation.ecn.uoknor.edu>: >>  >> Greetings! >>  >> Does anybody know if it is possible to set VGA graphics mode to 640x400 >> instead of 640x480?  Any info is appreciated! > >Some VESA bios's support this mode (0x100).  And *any* VGA should be able to >support this (640x480 by 256 colors) since it only requires 256,000 bytes. >My 8514/a VESA TSR supports this; it's the only VESA mode by card can support >due to 8514/a restrictions. (A WD/Paradise) > >-- >I am not responsible for anything I do or say -- I'm just an opinion. >             Robert J.C. Kyanko (rob@rjck.UUCP)  \\tAhh no.  Possibly you punched in the wrong numbers on your calculator.  256 color modes take a byte per pixel so 640 time 480 is 307,200 which is 300k to be exact.  640x400x256 only takes 250k but I don't think it is a BIOS mode.  I wouldn't bet that all VGA cards can do that either.  If a VGA card has 512k I bet it can do both 640x400 and 640x480.  That by definition is SVGA, though not very high SVGA. \""
      ]
     },
     "execution_count": 358,
     "metadata": {},
     "output_type": "execute_result"
    }
   ],
   "source": [
    "count_vect.get_feature_names()[0]\n",
    "count_vect.transform([X_sample_20.loc[2087].text]).toarray()\n",
    "X_sample_20.loc[2087].text"
   ]
  },
  {
   "cell_type": "markdown",
   "metadata": {},
   "source": [
    "### 5.4 Dimensionality Reduction"
   ]
  },
  {
   "cell_type": "code",
   "execution_count": 359,
   "metadata": {},
   "outputs": [],
   "source": [
    "from sklearn.decomposition import PCA"
   ]
  },
  {
   "cell_type": "code",
   "execution_count": 418,
   "metadata": {},
   "outputs": [],
   "source": [
    "X_reduced = PCA(n_components=3).fit_transform(X_counts.toarray())"
   ]
  },
  {
   "cell_type": "code",
   "execution_count": 419,
   "metadata": {},
   "outputs": [
    {
     "data": {
      "text/plain": [
       "array([[ -17.01172954,    0.4501664 ,   -1.31226074],\n",
       "       [  -6.80574586,   -1.15880601,   -0.4048828 ],\n",
       "       [  15.79461065,    3.62233098,   12.70799053],\n",
       "       ..., \n",
       "       [  19.97508176,   -2.85495802,    1.04076607],\n",
       "       [ 163.88523745,   29.52467684,   -8.70178835],\n",
       "       [ -16.58569528,    0.61748551,   -1.88007228]])"
      ]
     },
     "execution_count": 419,
     "metadata": {},
     "output_type": "execute_result"
    }
   ],
   "source": [
    "X_reduced"
   ]
  },
  {
   "cell_type": "code",
   "execution_count": 420,
   "metadata": {},
   "outputs": [
    {
     "data": {
      "text/plain": [
       "['alt.atheism', 'soc.religion.christian', 'comp.graphics', 'sci.med']"
      ]
     },
     "execution_count": 420,
     "metadata": {},
     "output_type": "execute_result"
    }
   ],
   "source": [
    "categories"
   ]
  },
  {
   "cell_type": "code",
   "execution_count": 161,
   "metadata": {},
   "outputs": [],
   "source": [
    "trace1 = ta.get_trace(X_reduced, X[\"category_name\"], \"alt.atheism\", \"rgb(71,233,163)\")\n",
    "trace2 = ta.get_trace(X_reduced, X[\"category_name\"], \"soc.religion.christian\", \"rgb(52,133,252)\")\n",
    "trace3 = ta.get_trace(X_reduced, X[\"category_name\"], \"comp.graphics\", \"rgb(229,65,136)\")\n",
    "trace4 = ta.get_trace(X_reduced, X[\"category_name\"], \"sci.med\", \"rgb(99,151,68)\")\n",
    "data = [trace1, trace2, trace3, trace4]\n",
    "layout = go.Layout(\n",
    "    margin=dict(\n",
    "        l=0,\n",
    "        r=0,\n",
    "        b=0,\n",
    "        t=0\n",
    "    )\n",
    ")\n",
    "fig = go.Figure(data=data, layout=layout)\n",
    "#py.iplot(fig, filename='simple-3d-scatter')"
   ]
  },
  {
   "cell_type": "code",
   "execution_count": 437,
   "metadata": {},
   "outputs": [
    {
     "name": "stdout",
     "output_type": "stream",
     "text": [
      "480\n",
      "599\n",
      "[[ -1.31226074e+00]\n",
      " [ -4.04882799e-01]\n",
      " [ -6.36718522e-02]\n",
      " [ -3.93812046e+00]\n",
      " [  1.53707781e-01]\n",
      " [ -3.80586922e-01]\n",
      " [ -3.54797683e+00]\n",
      " [  4.18191677e-01]\n",
      " [ -1.91573160e+00]\n",
      " [ -1.55412494e+00]\n",
      " [ -1.69669486e+00]\n",
      " [ -1.41069504e+00]\n",
      " [  1.78377817e+00]\n",
      " [ -1.08511285e+00]\n",
      " [ -3.64821151e+00]\n",
      " [ -2.95942735e+00]\n",
      " [ -1.76609979e+00]\n",
      " [  1.10218095e+00]\n",
      " [ -1.78804591e+00]\n",
      " [  8.00288594e-02]\n",
      " [ -4.07210936e-01]\n",
      " [  2.58985112e-01]\n",
      " [ -5.41775285e-01]\n",
      " [ -1.17571782e+00]\n",
      " [ -2.27183541e+00]\n",
      " [  1.15852862e-03]\n",
      " [  2.08640310e-02]\n",
      " [  1.00939768e+00]\n",
      " [ -7.56428718e-01]\n",
      " [ -6.67949217e-02]\n",
      " [ -3.44002660e+00]\n",
      " [ -7.62493289e-01]\n",
      " [  5.49671779e-01]\n",
      " [  1.60270256e+00]\n",
      " [ -2.68196068e+00]\n",
      " [ -2.54259947e+00]\n",
      " [ -2.31610027e+00]\n",
      " [  1.09977444e-01]\n",
      " [  1.35572873e+00]\n",
      " [ -1.64379084e+00]\n",
      " [  2.36754734e+00]\n",
      " [ -4.04583430e+00]\n",
      " [  2.35946388e+00]\n",
      " [ -6.38434395e+00]\n",
      " [  9.43403898e+00]\n",
      " [ -4.68800010e+00]\n",
      " [  2.47716916e+00]\n",
      " [ -7.05883075e-01]\n",
      " [  8.47538763e-01]\n",
      " [ -1.37908865e+00]\n",
      " [ -2.99987984e+00]\n",
      " [  2.90454208e+00]\n",
      " [ -1.45805692e+00]\n",
      " [ -3.81384962e-01]\n",
      " [ -8.90342812e-01]\n",
      " [ -1.36005358e+00]\n",
      " [ -4.42324940e+00]\n",
      " [  1.35608846e+01]\n",
      " [ -3.10349193e+00]\n",
      " [ -7.26157290e+00]\n",
      " [  4.36085458e+00]\n",
      " [ -2.07614753e+00]\n",
      " [ -1.73202563e+00]\n",
      " [ -8.33197762e-01]\n",
      " [  1.09971995e-01]\n",
      " [ -6.05209887e-01]\n",
      " [ -3.88438587e-02]\n",
      " [ -1.19313818e+00]\n",
      " [ -5.00561899e+00]\n",
      " [ -2.16304208e+00]\n",
      " [ -1.25196431e+00]\n",
      " [  2.98050712e+00]\n",
      " [  1.37483837e-01]\n",
      " [ -3.26056879e-02]\n",
      " [  1.69686155e+00]\n",
      " [ -1.99382205e+00]\n",
      " [ -2.62978677e+00]\n",
      " [  1.67367099e+00]\n",
      " [ -1.35190753e+00]\n",
      " [ -9.26781312e-03]\n",
      " [  6.87089983e-01]\n",
      " [ -3.71939812e-01]\n",
      " [ -1.78290226e+00]\n",
      " [ -2.76033303e+00]\n",
      " [ -2.46752577e+00]\n",
      " [ -1.07553155e+00]\n",
      " [  1.22515335e+00]\n",
      " [ -1.25099265e+00]\n",
      " [  1.99487956e-01]\n",
      " [  3.46844204e+00]\n",
      " [ -1.37787268e+00]\n",
      " [ -2.57768054e+00]\n",
      " [  1.84339533e+00]\n",
      " [ -2.79908490e+00]\n",
      " [ -8.35846779e-01]\n",
      " [  2.08379183e-01]\n",
      " [  7.76962983e-02]\n",
      " [ -8.72186363e-01]\n",
      " [ -2.88356701e-02]\n",
      " [ -2.45228180e+00]\n",
      " [ -8.53694584e-01]\n",
      " [  3.02536221e+00]\n",
      " [ -6.21720800e+01]\n",
      " [ -2.18139630e+00]\n",
      " [ -1.49889975e+00]\n",
      " [ -1.81465817e+00]\n",
      " [ -2.27046695e+00]\n",
      " [ -1.71243540e+00]\n",
      " [  2.15490695e+02]\n",
      " [ -9.29681416e-01]\n",
      " [  8.57375888e-01]\n",
      " [ -1.70683305e+00]\n",
      " [  9.28453230e-01]\n",
      " [ -9.67915131e-01]\n",
      " [ -9.96352347e-01]\n",
      " [ -6.01459736e+00]\n",
      " [ -2.14177250e+00]\n",
      " [ -4.07126301e+00]\n",
      " [ -1.85195164e+00]\n",
      " [  1.19545619e-01]\n",
      " [ -2.01441135e-01]\n",
      " [ -1.88752101e+00]\n",
      " [ -4.90782471e+00]\n",
      " [  7.05320516e+00]\n",
      " [ -9.31595151e-01]\n",
      " [ -3.45385653e-01]\n",
      " [ -1.86559706e+00]\n",
      " [  2.50532635e-01]\n",
      " [ -9.65105371e-01]\n",
      " [ -3.50224474e-02]\n",
      " [ -1.06579420e+00]\n",
      " [ -7.66362834e+00]\n",
      " [ -2.07552582e+00]\n",
      " [ -1.91476062e+00]\n",
      " [ -3.06600203e+00]\n",
      " [ -3.07781335e+00]\n",
      " [ -7.44467543e-01]\n",
      " [ -1.70029067e+00]\n",
      " [ -6.08272877e-01]\n",
      " [ -3.63236860e+00]\n",
      " [ -2.78969203e-02]\n",
      " [ -1.16860248e+00]\n",
      " [ -1.52004196e+00]\n",
      " [  1.66035106e+00]\n",
      " [ -4.91736520e-01]\n",
      " [ -1.14212948e+00]\n",
      " [  1.01964280e+00]\n",
      " [  4.34818217e+00]\n",
      " [ -2.58995135e+00]\n",
      " [ -2.45517385e-01]\n",
      " [  1.98950430e+00]\n",
      " [ -2.28301660e+00]\n",
      " [ -8.77313638e-01]\n",
      " [ -8.13211534e-01]\n",
      " [ -8.10167560e-01]\n",
      " [  7.28907970e-01]\n",
      " [ -1.71849454e+00]\n",
      " [ -2.74365948e+00]\n",
      " [ -1.22068495e+00]\n",
      " [ -6.59664401e-01]\n",
      " [ -2.51174446e-01]\n",
      " [ -1.85561507e+00]\n",
      " [  5.45185252e+00]\n",
      " [ -6.32733660e-01]\n",
      " [ -2.66030360e+00]\n",
      " [ -1.70480245e+00]\n",
      " [ -2.42200550e+00]\n",
      " [ -1.18745151e+00]\n",
      " [ -1.99273744e+00]\n",
      " [ -1.22702663e+00]\n",
      " [  1.58173682e+00]\n",
      " [ -4.42649346e+00]\n",
      " [ -1.29256195e-01]\n",
      " [ -1.64096145e+00]\n",
      " [ -2.76674687e+00]\n",
      " [  3.34598456e-01]\n",
      " [ -3.23895767e-01]\n",
      " [ -1.23076374e+00]\n",
      " [ -1.78533159e+00]\n",
      " [ -1.32322655e-01]\n",
      " [ -2.19658849e-01]\n",
      " [ -2.29140478e-01]\n",
      " [ -7.03090781e-01]\n",
      " [  1.09756999e+00]\n",
      " [  6.17740235e-02]\n",
      " [ -3.52171132e-01]\n",
      " [  3.51834623e-02]\n",
      " [ -5.31084577e+00]\n",
      " [  8.20734691e-01]\n",
      " [ -7.94088775e+01]\n",
      " [ -2.80957380e+00]\n",
      " [  1.40306321e+00]\n",
      " [ -5.92714932e-01]\n",
      " [ -1.60355270e+00]\n",
      " [ -2.67757210e+00]\n",
      " [ -1.52546801e+00]\n",
      " [ -1.32700348e+00]\n",
      " [ -2.75424047e+00]\n",
      " [ -1.54787761e+00]\n",
      " [ -1.55790666e+00]\n",
      " [ -1.61938756e+00]\n",
      " [ -2.94649314e-01]\n",
      " [  1.43118720e+01]\n",
      " [ -1.58688792e+00]\n",
      " [  1.63234455e+00]\n",
      " [ -2.22892002e+00]\n",
      " [ -2.80258985e-01]\n",
      " [ -1.13269219e+00]\n",
      " [ -1.49566520e+00]\n",
      " [ -2.64474830e+00]\n",
      " [ -8.59661910e+00]\n",
      " [  2.58583917e-02]\n",
      " [ -2.74514366e+00]\n",
      " [ -8.50923569e+00]\n",
      " [ -5.83195301e-01]\n",
      " [ -1.10211225e+00]\n",
      " [ -1.27816597e+00]\n",
      " [  5.92789312e-01]\n",
      " [ -1.33491588e+00]\n",
      " [ -1.47961746e-01]\n",
      " [ -3.61287783e-01]\n",
      " [ -3.91551247e+00]\n",
      " [ -1.84078564e+00]\n",
      " [  1.93923361e+00]\n",
      " [ -1.90745089e+00]\n",
      " [  7.08298225e-01]\n",
      " [ -1.29841945e+00]\n",
      " [  7.55556218e-01]\n",
      " [ -9.32911005e-01]\n",
      " [  3.14171329e-01]\n",
      " [ -1.44384398e+00]\n",
      " [ -3.85185884e-02]\n",
      " [  4.92577813e-01]\n",
      " [  6.77713545e-02]\n",
      " [ -2.66401697e+00]\n",
      " [ -3.74638225e+00]\n",
      " [ -5.01133749e-01]\n",
      " [ -1.66493768e+00]\n",
      " [ -1.05602755e+00]\n",
      " [  6.61473805e-01]\n",
      " [ -8.21892524e-01]\n",
      " [ -2.29579336e+00]\n",
      " [ -1.75368051e+00]\n",
      " [ -5.49749644e-02]\n",
      " [ -5.31435321e-01]\n",
      " [ -1.75315483e+00]\n",
      " [ -2.46774730e+00]\n",
      " [ -1.50276751e+00]\n",
      " [ -1.42204541e+00]\n",
      " [ -6.89659751e-01]\n",
      " [ -3.54759135e+00]\n",
      " [ -3.03293469e+00]\n",
      " [ -1.10399490e+00]\n",
      " [ -2.44051405e+00]\n",
      " [ -2.09880022e-01]\n",
      " [  1.33343693e+00]\n",
      " [ -2.30699307e+00]\n",
      " [ -8.71590120e-01]\n",
      " [ -5.03895644e-01]\n",
      " [ -1.18662817e+00]\n",
      " [ -1.69314575e+00]\n",
      " [ -1.53546927e+00]\n",
      " [  1.01215663e+00]\n",
      " [  1.60752666e-01]\n",
      " [ -7.38721737e-02]\n",
      " [  7.89740305e-01]\n",
      " [ -1.23842942e+00]\n",
      " [ -1.03050938e+01]\n",
      " [  5.18879643e-01]\n",
      " [  2.21714088e+00]\n",
      " [ -1.63684741e+00]\n",
      " [  5.90405969e-01]\n",
      " [ -4.19185567e-01]\n",
      " [ -1.41138650e+00]\n",
      " [ -1.18544266e+00]\n",
      " [ -1.28682088e+00]\n",
      " [  1.69366806e+00]\n",
      " [ -2.82527327e+00]\n",
      " [  1.93735072e+00]\n",
      " [ -2.34550868e+00]\n",
      " [ -5.09461348e-01]\n",
      " [ -9.16752863e-01]\n",
      " [  1.38981474e+00]\n",
      " [ -2.12735391e+00]\n",
      " [ -1.23501993e+00]\n",
      " [ -2.63924562e+00]\n",
      " [ -1.45055134e-01]\n",
      " [  3.23753759e+00]\n",
      " [ -2.96151120e+00]\n",
      " [ -1.74164658e+00]\n",
      " [  7.71406886e-01]\n",
      " [ -6.33823245e-01]\n",
      " [ -1.03043593e+00]\n",
      " [ -1.50308740e+00]\n",
      " [ -3.40411668e+00]\n",
      " [ -1.27536796e+00]\n",
      " [ -2.22411592e+00]\n",
      " [  4.46198073e-01]\n",
      " [ -1.42713461e+00]\n",
      " [ -4.91939202e+00]\n",
      " [ -3.00331170e+00]\n",
      " [  1.58066692e+00]\n",
      " [ -1.39131478e+00]\n",
      " [  5.18439741e+00]\n",
      " [ -3.02879030e+00]\n",
      " [ -9.18681581e-01]\n",
      " [ -2.21443037e+00]\n",
      " [  9.81668051e-02]\n",
      " [  1.27295566e+00]\n",
      " [ -1.22382423e-01]\n",
      " [ -1.72860891e+00]\n",
      " [ -2.30959791e+00]\n",
      " [ -2.83064331e-01]\n",
      " [ -7.14243183e-01]\n",
      " [ -1.63687091e+00]\n",
      " [  1.85563065e-01]\n",
      " [  3.22876974e+01]\n",
      " [ -1.02357346e+00]\n",
      " [ -2.34339773e+00]\n",
      " [ -1.32425338e-01]\n",
      " [ -6.30084925e+00]\n",
      " [ -1.65945668e+00]\n",
      " [ -1.15127314e+00]\n",
      " [ -1.93760906e+00]\n",
      " [ -1.96129872e+00]\n",
      " [ -4.79066109e-01]\n",
      " [ -1.57595611e+00]\n",
      " [ -2.16572461e+00]\n",
      " [ -1.54296545e+01]\n",
      " [ -9.16915324e-01]\n",
      " [ -2.06768401e+00]\n",
      " [  1.79699859e-01]\n",
      " [ -2.64617976e+00]\n",
      " [ -7.42603430e-01]\n",
      " [  8.74566621e-01]\n",
      " [  5.42467661e+00]\n",
      " [  1.96182347e+00]\n",
      " [  3.45942307e-01]\n",
      " [ -2.44094925e+00]\n",
      " [  2.93072047e+00]\n",
      " [ -2.80736241e+00]\n",
      " [ -1.03168580e+00]\n",
      " [ -1.26657684e+01]\n",
      " [  8.75969346e-01]\n",
      " [ -1.33805330e+00]\n",
      " [  1.93272986e-01]\n",
      " [ -1.26212019e+00]\n",
      " [ -1.92806003e+00]\n",
      " [  1.11378879e-02]\n",
      " [ -2.09869053e+00]\n",
      " [ -2.98607872e+00]\n",
      " [  2.88812240e-02]\n",
      " [ -1.89363285e+00]\n",
      " [ -7.85430730e+00]\n",
      " [ -1.06832935e+00]\n",
      " [ -3.46702269e+00]\n",
      " [ -2.00770559e+00]\n",
      " [ -1.66932472e+00]\n",
      " [  3.13004528e-01]\n",
      " [ -8.25138863e-01]\n",
      " [ -2.47668286e+00]\n",
      " [ -1.53169226e+00]\n",
      " [ -2.96746281e+00]\n",
      " [ -1.65970283e+00]\n",
      " [ -1.77984716e+00]\n",
      " [  8.34358096e-02]\n",
      " [ -1.56063552e+00]\n",
      " [ -1.43331911e+00]\n",
      " [ -2.24623467e+00]\n",
      " [ -3.16543097e+00]\n",
      " [ -9.32402546e-01]\n",
      " [ -1.25075603e+01]\n",
      " [ -7.59888186e-01]\n",
      " [ -2.59501789e+00]\n",
      " [ -1.20738537e+00]\n",
      " [ -7.88345925e-01]\n",
      " [ -3.49495335e-01]\n",
      " [ -2.45870382e+00]\n",
      " [ -1.94621703e+00]\n",
      " [  5.68422400e-01]\n",
      " [ -3.30432210e+00]\n",
      " [ -9.44561629e+00]\n",
      " [ -1.16961260e+00]\n",
      " [  3.05312766e+00]\n",
      " [ -1.15501204e-01]\n",
      " [ -1.57793186e+00]\n",
      " [  2.09904469e+00]\n",
      " [ -4.96648837e+00]\n",
      " [  5.72169423e-01]\n",
      " [ -2.26016834e+00]\n",
      " [ -1.95185114e+00]\n",
      " [ -2.60864307e+00]\n",
      " [ -1.84679095e+00]\n",
      " [ -2.20797820e+00]\n",
      " [ -5.19267695e+00]\n",
      " [ -6.11753107e-01]\n",
      " [ -8.73984070e-01]\n",
      " [  6.42275990e-01]\n",
      " [ -2.41007671e+00]\n",
      " [ -1.10063994e+00]\n",
      " [  1.09138762e+00]\n",
      " [ -8.36491035e-01]\n",
      " [ -2.18873045e+00]\n",
      " [ -2.76853888e+00]\n",
      " [  5.19837423e+00]\n",
      " [ -1.25338733e+00]\n",
      " [ -1.40156718e+00]\n",
      " [ -9.78665492e-01]\n",
      " [ -1.51795479e+00]\n",
      " [  2.25272364e+01]\n",
      " [ -2.06781966e+00]\n",
      " [ -2.57046639e+00]\n",
      " [ -1.08422665e+00]\n",
      " [ -9.21620114e-01]\n",
      " [ -7.24378446e-02]\n",
      " [ -3.07414790e+00]\n",
      " [ -1.73946251e+00]\n",
      " [  2.75390672e+00]\n",
      " [ -1.37506305e+00]\n",
      " [ -6.60894215e-01]\n",
      " [ -1.29047161e+00]\n",
      " [ -4.40991969e+00]\n",
      " [ -3.40996666e-01]\n",
      " [  3.45343329e-01]\n",
      " [ -5.40032210e+00]\n",
      " [ -1.41472989e+00]\n",
      " [ -8.16950361e-01]\n",
      " [ -1.71425155e+00]\n",
      " [  1.58248915e+00]\n",
      " [ -3.09709087e+00]\n",
      " [ -4.31205546e-01]\n",
      " [ -3.69740345e+00]\n",
      " [  8.69878938e-01]\n",
      " [ -1.99459321e+00]\n",
      " [ -1.33522361e+00]\n",
      " [  1.34749528e+00]\n",
      " [ -3.73374670e-01]\n",
      " [ -6.41504386e-01]\n",
      " [ -1.10749197e+00]\n",
      " [ -1.18670009e+00]\n",
      " [ -7.72791790e-01]\n",
      " [  8.53190745e+00]\n",
      " [ -1.52042722e+00]\n",
      " [ -5.45056992e-02]\n",
      " [ -1.65654801e+00]\n",
      " [  2.33539536e+00]\n",
      " [ -5.53101148e-01]\n",
      " [ -9.07048211e-01]\n",
      " [  6.38208799e-02]\n",
      " [  1.03228434e-01]\n",
      " [ -2.41624087e+00]\n",
      " [ -1.97474244e+00]\n",
      " [ -4.84100783e-02]\n",
      " [ -1.71049703e+00]\n",
      " [ -7.70375788e-01]\n",
      " [  6.67417977e-01]\n",
      " [ -1.68912138e+00]\n",
      " [  1.39925039e+00]\n",
      " [  1.98219210e+00]\n",
      " [ -1.16943841e+00]\n",
      " [ -2.59026705e+00]\n",
      " [  4.52382136e-03]\n",
      " [ -1.10535656e+00]\n",
      " [  2.23231264e+00]\n",
      " [ -1.65276218e+00]\n",
      " [ -2.53472434e+00]\n",
      " [ -4.41486295e-01]\n",
      " [ -1.66867136e+00]\n",
      " [ -9.47800005e-02]\n",
      " [ -1.97316607e+00]\n",
      " [ -5.36034440e-01]\n",
      " [  1.22011839e+00]\n",
      " [  3.98933805e-02]\n",
      " [ -1.72009268e+00]\n",
      " [ -1.01492328e+00]\n",
      " [ -9.56507669e-01]\n",
      " [ -1.74766608e+00]\n",
      " [ -9.24056044e-02]\n",
      " [ -2.29929775e+00]\n",
      " [  6.38614916e-02]\n",
      " [ -3.33327825e+00]\n",
      " [ -1.35285040e+00]\n",
      " [ -4.42125161e-01]\n",
      " [ -7.72596573e-01]\n",
      " [ -1.38349061e+00]\n",
      " [ -1.83247857e+00]\n",
      " [ -6.39026397e+01]\n",
      " [ -1.02074848e+00]\n",
      " [ -1.73123449e+00]\n",
      " [ -2.25268301e+00]\n",
      " [ -1.05096557e+00]\n",
      " [ -1.76540897e+00]\n",
      " [ -2.37862876e+00]\n",
      " [ -2.11433942e+00]\n",
      " [ -1.21179325e+00]\n",
      " [ -2.26786143e+00]\n",
      " [ -1.71288487e+00]\n",
      " [  6.27460391e-02]\n",
      " [ -1.63082229e+00]\n",
      " [ -3.24788330e+00]\n",
      " [ -3.93530529e+00]\n",
      " [ -7.19763000e+00]\n",
      " [ -1.18286069e+00]\n",
      " [ -1.53222272e+00]\n",
      " [ -2.81315182e+00]\n",
      " [ -1.66192380e+00]\n",
      " [  3.72157017e+00]\n",
      " [ -8.36488895e-01]\n",
      " [ -6.74833720e-01]\n",
      " [ -7.56249128e+00]\n",
      " [ -1.56282226e+00]\n",
      " [ -2.11903708e+00]\n",
      " [ -9.00422827e-01]\n",
      " [ -1.74651075e+00]\n",
      " [ -1.30623852e+00]\n",
      " [ -1.35384364e+01]\n",
      " [ -3.52432433e-01]\n",
      " [  2.53234198e+00]\n",
      " [  1.89156017e-01]\n",
      " [ -3.55418096e+00]\n",
      " [ -5.29025096e+00]\n",
      " [ -1.90184589e+00]\n",
      " [ -3.98567832e+00]\n",
      " [  2.21983618e+00]\n",
      " [ -3.32988393e-01]\n",
      " [ -1.47138487e+00]\n",
      " [ -2.18760282e+00]\n",
      " [  8.39981155e-01]\n",
      " [ -3.53044061e+00]\n",
      " [  3.28943339e+00]\n",
      " [ -7.73417731e-01]\n",
      " [  2.95439531e+00]\n",
      " [ -1.89288507e+00]\n",
      " [ -4.94304608e+00]\n",
      " [ -1.95459059e+00]\n",
      " [ -3.43493154e+00]\n",
      " [  8.27583756e-01]\n",
      " [ -1.23198288e+00]\n",
      " [ -5.60848686e-02]\n",
      " [ -2.16724208e+00]\n",
      " [ -1.61618781e+00]\n",
      " [  4.20269808e+00]\n",
      " [ -1.58280743e+00]\n",
      " [ -2.32686485e+00]\n",
      " [ -1.64116944e+00]\n",
      " [  1.05481959e-01]\n",
      " [ -2.67100357e+00]\n",
      " [  1.55001959e+00]\n",
      " [  1.52895605e+00]\n",
      " [  1.13691884e-01]\n",
      " [ -3.74191011e+00]\n",
      " [ -2.12717347e+00]\n",
      " [ -3.83155204e-02]\n",
      " [ -5.43221989e-01]\n",
      " [ -8.85881020e-01]\n",
      " [ -5.53455948e-01]\n",
      " [ -1.00973267e-01]\n",
      " [  1.06103963e+00]\n",
      " [ -3.42446947e+00]\n",
      " [ -3.01490996e-01]\n",
      " [ -1.32657562e-01]\n",
      " [ -1.76012171e+00]\n",
      " [  1.43048013e+00]\n",
      " [ -2.43392216e+00]\n",
      " [  4.56597967e-01]\n",
      " [ -3.61459196e-01]\n",
      " [ -1.40884651e+00]\n",
      " [ -7.84642465e-01]\n",
      " [  3.84262283e+00]\n",
      " [  2.90216084e+00]\n",
      " [ -5.21501849e-01]\n",
      " [ -2.99180261e+00]\n",
      " [ -2.59545098e+00]\n",
      " [  1.65949833e-01]\n",
      " [  1.35313359e+00]\n",
      " [  3.00037928e+00]\n",
      " [ -1.14579132e+00]\n",
      " [  5.38384901e-01]\n",
      " [  1.89321917e+00]\n",
      " [ -7.24769755e+00]\n",
      " [ -2.08082596e+00]\n",
      " [ -3.01311568e+00]\n",
      " [ -1.44647761e+00]\n",
      " [ -1.80162632e-01]]\n",
      "594\n"
     ]
    }
   ],
   "source": [
    "pc_1=X_reduced.T[0][:, np.newaxis]\n",
    "pc_2=X_reduced.T[1][:, np.newaxis]\n",
    "pc_3=X_reduced.T[2][:, np.newaxis]\n",
    "#print(len(pc_1[X[\"category_name\"]=='alt.atheism']))\n",
    "#print(len(pc_1[X[\"category_name\"]=='soc.religion.christian']))\n",
    "#print(pc_3[X[\"category_name\"]=='comp.graphics'])\n",
    "#print(len(pc_1[X[\"category_name\"]=='sci.med']))"
   ]
  },
  {
   "cell_type": "code",
   "execution_count": 439,
   "metadata": {},
   "outputs": [
    {
     "data": {
      "image/png": "[encoded data removed]",
      "text/plain": [
       "<matplotlib.figure.Figure at 0x2735630a668>"
      ]
     },
     "metadata": {},
     "output_type": "display_data"
    }
   ],
   "source": [
    "from mpl_toolkits.mplot3d import Axes3D\n",
    "#plot 3D\n",
    "colors = ['steelblue','green','coral','goldenrod']\n",
    "fig = plt.figure(figsize=(16,10))\n",
    "\n",
    "plt3d = fig.add_subplot(1,1,1, projection='3d')\n",
    "\n",
    "for l, c in zip(np.unique(X[\"category_name\"]), colors):\n",
    "    plt3d.scatter(pc_1[X[\"category_name\"]==l],\n",
    "                  pc_2[X[\"category_name\"]==l],\n",
    "                  pc_3[X[\"category_name\"]==l],\n",
    "                  c=c, label=l, marker='o', alpha=0.9, s=70)\n",
    "\n",
    "plt.title('pca 3D\\n')\n",
    "plt.xlabel('\\n\\nPC 1');plt.ylabel('\\n\\nPC 2')\n",
    "plt3d.set_zlabel('\\nPC 3')\n",
    "plt.legend(loc='upper right')\n",
    "plt.tight_layout()\n",
    "plt3d.azim = 60\n",
    "ax.elev = -5\n",
    "plt3d.set_aspect('auto')\n",
    "plt.show()"
   ]
  },
  {
   "cell_type": "markdown",
   "metadata": {},
   "source": [
    "### 5.5 Atrribute Transformation / Aggregation"
   ]
  },
  {
   "cell_type": "code",
   "execution_count": 440,
   "metadata": {
    "collapsed": true
   },
   "outputs": [],
   "source": [
    "# note this takes time to compute. You may want to reduce the amount of terms you want to compute frequencies for\n",
    "term_frequencies = []\n",
    "\n",
    "for j in range(0,X_counts.shape[1]):\n",
    "    term_frequencies.append(sum(X_counts[:,j].toarray()))"
   ]
  },
  {
   "cell_type": "code",
   "execution_count": 441,
   "metadata": {},
   "outputs": [
    {
     "data": {
      "text/plain": [
       "array([134], dtype=int64)"
      ]
     },
     "execution_count": 441,
     "metadata": {},
     "output_type": "execute_result"
    }
   ],
   "source": [
    "term_frequencies[0]"
   ]
  },
  {
   "cell_type": "code",
   "execution_count": 167,
   "metadata": {
    "collapsed": true
   },
   "outputs": [],
   "source": [
    "#py.iplot(ta.plot_word_frequency([count_vect.get_feature_names(), term_frequencies], \"Term Frequency Distribution\"))"
   ]
  },
  {
   "cell_type": "code",
   "execution_count": 465,
   "metadata": {},
   "outputs": [
    {
     "data": {
      "image/png": "[encoded data removed]",
      "text/plain": [
       "<matplotlib.figure.Figure at 0x2738710d0b8>"
      ]
     },
     "metadata": {},
     "output_type": "display_data"
    }
   ],
   "source": [
    "#py.iplot(ta.plot_word_frequency([count_vect.get_feature_names(), term_frequencies], \"Term Frequency Distribution\"))\n",
    "fig, ax = plt.subplots(figsize=(20,5))\n",
    "\n",
    "plt.bar(range(0,X_counts.shape[1]),term_frequencies, alpha=0.8, color='steelblue') \n",
    "plt.xticks(range(0,X_counts.shape[1]),count_vect.get_feature_names(),rotation=270,fontsize=10)\n",
    "ax.set_ylabel('Count')\n",
    "ax.set_title('Term Frequency Distribution')\n",
    "\n",
    "plt.grid()\n",
    "plt.show()"
   ]
  },
  {
   "cell_type": "markdown",
   "metadata": {},
   "source": [
    "Exercise 4\n",
    "```python\n",
    "fig, ax = plt.subplots(figsize=(40,10))\n",
    "plt.bar(range(0,100),term_frequencies[0:100], alpha=0.8, color='steelblue') \n",
    "plt.xticks(range(0,100),count_vect.get_feature_names()[0:100],rotation=270,fontsize=18)\n",
    "ax.set_ylabel('Count')\n",
    "ax.set_title('Term Frequency Distribution')\n",
    "\n",
    "plt.grid()\n",
    "plt.show()\n",
    "```"
   ]
  },
  {
   "cell_type": "markdown",
   "metadata": {},
   "source": [
    "Exercise 5\n",
    "```python\n",
    "term_frequencies_sort_idx=sorted(range(len(term_frequencies)),reverse=True, key=lambda k: term_frequencies[k])\n",
    "term_frequencies_top=list( term_frequencies[i] for i in term_frequencies_sort_idx[0:50] )\n",
    "term_name_top=list( count_vect.get_feature_names()[i] for i in term_frequencies_sort_idx[0:50] )\n",
    "\n",
    "fig, ax = plt.subplots(figsize=(40,10))\n",
    "plt.bar(range(0,50),term_frequencies_top, alpha=0.8, color='steelblue') \n",
    "plt.xticks(range(0,50),term_name_top,rotation=90,fontsize=25)\n",
    "plt.yticks(fontsize=20)\n",
    "ax.set_ylabel('Count',fontsize=30)\n",
    "ax.set_title('Term Frequency Distribution',fontsize=30)\n",
    "\n",
    "plt.grid()\n",
    "plt.show()\n",
    "```"
   ]
  },
  {
   "cell_type": "code",
   "execution_count": 168,
   "metadata": {
    "collapsed": true
   },
   "outputs": [],
   "source": [
    "term_frequencies_log = [math.log(i) for i in term_frequencies]"
   ]
  },
  {
   "cell_type": "code",
   "execution_count": 169,
   "metadata": {
    "collapsed": true
   },
   "outputs": [],
   "source": [
    "#py.iplot(ta.plot_word_frequency([count_vect.get_feature_names(), term_frequencies_log], \"Term Frequency Distribution\"))"
   ]
  },
  {
   "cell_type": "markdown",
   "metadata": {},
   "source": [
    "### 5.6 Discretization and Binarization"
   ]
  },
  {
   "cell_type": "code",
   "execution_count": 511,
   "metadata": {
    "collapsed": true
   },
   "outputs": [],
   "source": [
    "from sklearn import preprocessing, metrics, decomposition, pipeline, dummy"
   ]
  },
  {
   "cell_type": "code",
   "execution_count": 512,
   "metadata": {},
   "outputs": [],
   "source": [
    "mlb = preprocessing.LabelBinarizer()"
   ]
  },
  {
   "cell_type": "code",
   "execution_count": 513,
   "metadata": {},
   "outputs": [
    {
     "data": {
      "text/plain": [
       "LabelBinarizer(neg_label=0, pos_label=1, sparse_output=False)"
      ]
     },
     "execution_count": 513,
     "metadata": {},
     "output_type": "execute_result"
    }
   ],
   "source": [
    "mlb.fit(X.category)"
   ]
  },
  {
   "cell_type": "code",
   "execution_count": 514,
   "metadata": {},
   "outputs": [
    {
     "data": {
      "text/plain": [
       "array([0, 1, 2, 3], dtype=int64)"
      ]
     },
     "execution_count": 514,
     "metadata": {},
     "output_type": "execute_result"
    }
   ],
   "source": [
    "mlb.classes_"
   ]
  },
  {
   "cell_type": "code",
   "execution_count": 515,
   "metadata": {
    "collapsed": true
   },
   "outputs": [],
   "source": [
    "X['bin_category'] = mlb.transform(X['category']).tolist()"
   ]
  },
  {
   "cell_type": "code",
   "execution_count": 176,
   "metadata": {},
   "outputs": [
    {
     "data": {
      "text/html": [
       "<div>\n",
       "<style>\n",
       "    .dataframe thead tr:only-child th {\n",
       "        text-align: right;\n",
       "    }\n",
       "\n",
       "    .dataframe thead th {\n",
       "        text-align: left;\n",
       "    }\n",
       "\n",
       "    .dataframe tbody tr th {\n",
       "        vertical-align: top;\n",
       "    }\n",
       "</style>\n",
       "<table border=\"1\" class=\"dataframe\">\n",
       "  <thead>\n",
       "    <tr style=\"text-align: right;\">\n",
       "      <th></th>\n",
       "      <th>text</th>\n",
       "      <th>category</th>\n",
       "      <th>category_name</th>\n",
       "      <th>unigrams</th>\n",
       "      <th>bin_category</th>\n",
       "    </tr>\n",
       "  </thead>\n",
       "  <tbody>\n",
       "    <tr>\n",
       "      <th>0</th>\n",
       "      <td>From: sd345@city.ac.uk (Michael Collier) Subje...</td>\n",
       "      <td>1</td>\n",
       "      <td>comp.graphics</td>\n",
       "      <td>[From, :, sd345, @, city.ac.uk, (, Michael, Co...</td>\n",
       "      <td>[0, 1, 0, 0]</td>\n",
       "    </tr>\n",
       "    <tr>\n",
       "      <th>1</th>\n",
       "      <td>From: ani@ms.uky.edu (Aniruddha B. Deglurkar) ...</td>\n",
       "      <td>1</td>\n",
       "      <td>comp.graphics</td>\n",
       "      <td>[From, :, ani, @, ms.uky.edu, (, Aniruddha, B....</td>\n",
       "      <td>[0, 1, 0, 0]</td>\n",
       "    </tr>\n",
       "    <tr>\n",
       "      <th>2</th>\n",
       "      <td>From: djohnson@cs.ucsd.edu (Darin Johnson) Sub...</td>\n",
       "      <td>3</td>\n",
       "      <td>soc.religion.christian</td>\n",
       "      <td>[From, :, djohnson, @, cs.ucsd.edu, (, Darin, ...</td>\n",
       "      <td>[0, 0, 0, 1]</td>\n",
       "    </tr>\n",
       "    <tr>\n",
       "      <th>3</th>\n",
       "      <td>From: s0612596@let.rug.nl (M.M. Zwart) Subject...</td>\n",
       "      <td>3</td>\n",
       "      <td>soc.religion.christian</td>\n",
       "      <td>[From, :, s0612596, @, let.rug.nl, (, M.M, ., ...</td>\n",
       "      <td>[0, 0, 0, 1]</td>\n",
       "    </tr>\n",
       "    <tr>\n",
       "      <th>4</th>\n",
       "      <td>From: stanly@grok11.columbiasc.ncr.com (stanly...</td>\n",
       "      <td>3</td>\n",
       "      <td>soc.religion.christian</td>\n",
       "      <td>[From, :, stanly, @, grok11.columbiasc.ncr.com...</td>\n",
       "      <td>[0, 0, 0, 1]</td>\n",
       "    </tr>\n",
       "    <tr>\n",
       "      <th>5</th>\n",
       "      <td>From: vbv@lor.eeap.cwru.edu (Virgilio (Dean) B...</td>\n",
       "      <td>3</td>\n",
       "      <td>soc.religion.christian</td>\n",
       "      <td>[From, :, vbv, @, lor.eeap.cwru.edu, (, Virgil...</td>\n",
       "      <td>[0, 0, 0, 1]</td>\n",
       "    </tr>\n",
       "    <tr>\n",
       "      <th>6</th>\n",
       "      <td>From: jodfishe@silver.ucs.indiana.edu (joseph ...</td>\n",
       "      <td>3</td>\n",
       "      <td>soc.religion.christian</td>\n",
       "      <td>[From, :, jodfishe, @, silver.ucs.indiana.edu,...</td>\n",
       "      <td>[0, 0, 0, 1]</td>\n",
       "    </tr>\n",
       "    <tr>\n",
       "      <th>7</th>\n",
       "      <td>From: aldridge@netcom.com (Jacquelin Aldridge)...</td>\n",
       "      <td>2</td>\n",
       "      <td>sci.med</td>\n",
       "      <td>[From, :, aldridge, @, netcom.com, (, Jacqueli...</td>\n",
       "      <td>[0, 0, 1, 0]</td>\n",
       "    </tr>\n",
       "    <tr>\n",
       "      <th>8</th>\n",
       "      <td>From: geb@cs.pitt.edu (Gordon Banks) Subject: ...</td>\n",
       "      <td>2</td>\n",
       "      <td>sci.med</td>\n",
       "      <td>[From, :, geb, @, cs.pitt.edu, (, Gordon, Bank...</td>\n",
       "      <td>[0, 0, 1, 0]</td>\n",
       "    </tr>\n",
       "  </tbody>\n",
       "</table>\n",
       "</div>"
      ],
      "text/plain": [
       "                                                text  category  \\\n",
       "0  From: sd345@city.ac.uk (Michael Collier) Subje...         1   \n",
       "1  From: ani@ms.uky.edu (Aniruddha B. Deglurkar) ...         1   \n",
       "2  From: djohnson@cs.ucsd.edu (Darin Johnson) Sub...         3   \n",
       "3  From: s0612596@let.rug.nl (M.M. Zwart) Subject...         3   \n",
       "4  From: stanly@grok11.columbiasc.ncr.com (stanly...         3   \n",
       "5  From: vbv@lor.eeap.cwru.edu (Virgilio (Dean) B...         3   \n",
       "6  From: jodfishe@silver.ucs.indiana.edu (joseph ...         3   \n",
       "7  From: aldridge@netcom.com (Jacquelin Aldridge)...         2   \n",
       "8  From: geb@cs.pitt.edu (Gordon Banks) Subject: ...         2   \n",
       "\n",
       "            category_name                                           unigrams  \\\n",
       "0           comp.graphics  [From, :, sd345, @, city.ac.uk, (, Michael, Co...   \n",
       "1           comp.graphics  [From, :, ani, @, ms.uky.edu, (, Aniruddha, B....   \n",
       "2  soc.religion.christian  [From, :, djohnson, @, cs.ucsd.edu, (, Darin, ...   \n",
       "3  soc.religion.christian  [From, :, s0612596, @, let.rug.nl, (, M.M, ., ...   \n",
       "4  soc.religion.christian  [From, :, stanly, @, grok11.columbiasc.ncr.com...   \n",
       "5  soc.religion.christian  [From, :, vbv, @, lor.eeap.cwru.edu, (, Virgil...   \n",
       "6  soc.religion.christian  [From, :, jodfishe, @, silver.ucs.indiana.edu,...   \n",
       "7                 sci.med  [From, :, aldridge, @, netcom.com, (, Jacqueli...   \n",
       "8                 sci.med  [From, :, geb, @, cs.pitt.edu, (, Gordon, Bank...   \n",
       "\n",
       "   bin_category  \n",
       "0  [0, 1, 0, 0]  \n",
       "1  [0, 1, 0, 0]  \n",
       "2  [0, 0, 0, 1]  \n",
       "3  [0, 0, 0, 1]  \n",
       "4  [0, 0, 0, 1]  \n",
       "5  [0, 0, 0, 1]  \n",
       "6  [0, 0, 0, 1]  \n",
       "7  [0, 0, 1, 0]  \n",
       "8  [0, 0, 1, 0]  "
      ]
     },
     "execution_count": 176,
     "metadata": {},
     "output_type": "execute_result"
    }
   ],
   "source": [
    "X[0:9]"
   ]
  },
  {
   "cell_type": "code",
   "execution_count": null,
   "metadata": {
    "collapsed": true
   },
   "outputs": [],
   "source": []
  }
 ],
 "metadata": {
  "kernelspec": {
   "display_name": "Python 3",
   "language": "python",
   "name": "python3"
  },
  "language_info": {
   "codemirror_mode": {
    "name": "ipython",
    "version": 3
   },
   "file_extension": ".py",
   "mimetype": "text/x-python",
   "name": "python",
   "nbconvert_exporter": "python",
   "pygments_lexer": "ipython3",
   "version": "3.6.1"
  }
 },
 "nbformat": 4,
 "nbformat_minor": 2
}
